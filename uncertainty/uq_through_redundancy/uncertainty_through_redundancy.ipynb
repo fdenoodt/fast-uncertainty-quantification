{
 "cells": [
  {
   "metadata": {
    "ExecuteTime": {
     "end_time": "2024-10-15T19:46:49.980242Z",
     "start_time": "2024-10-15T19:46:42.865262Z"
    }
   },
   "cell_type": "code",
   "source": "",
   "id": "907486a9da6273f0",
   "outputs": [],
   "execution_count": 4
  },
  {
   "metadata": {
    "ExecuteTime": {
     "end_time": "2024-10-15T19:46:50.179783Z",
     "start_time": "2024-10-15T19:46:49.984485Z"
    }
   },
   "cell_type": "code",
   "source": "",
   "id": "4d411989a300e9a4",
   "outputs": [
    {
     "data": {
      "text/plain": [
       "<Figure size 640x480 with 1 Axes>"
      ],
      "image/png": "[encoded data removed]"
     },
     "metadata": {},
     "output_type": "display_data"
    }
   ],
   "execution_count": 5
  },
  {
   "metadata": {
    "ExecuteTime": {
     "end_time": "2024-10-15T19:46:50.456973Z",
     "start_time": "2024-10-15T19:46:50.179783Z"
    }
   },
   "cell_type": "code",
   "source": "",
   "id": "38f85f6fd1a1f6af",
   "outputs": [
    {
     "ename": "KeyError",
     "evalue": "'seed'",
     "output_type": "error",
     "traceback": [
      "\u001B[1;31m---------------------------------------------------------------------------\u001B[0m",
      "\u001B[1;31mKeyError\u001B[0m                                  Traceback (most recent call last)",
      "Cell \u001B[1;32mIn[6], line 46\u001B[0m\n\u001B[0;32m     42\u001B[0m     \u001B[38;5;28mprint\u001B[39m(\u001B[38;5;124mf\u001B[39m\u001B[38;5;124m\"\u001B[39m\u001B[38;5;124mTest Accuracy: \u001B[39m\u001B[38;5;132;01m{\u001B[39;00mresults[\u001B[38;5;241m0\u001B[39m][\u001B[38;5;124m'\u001B[39m\u001B[38;5;124mtest_acc\u001B[39m\u001B[38;5;124m'\u001B[39m]\u001B[38;5;132;01m:\u001B[39;00m\u001B[38;5;124m.4f\u001B[39m\u001B[38;5;132;01m}\u001B[39;00m\u001B[38;5;124m\"\u001B[39m)\n\u001B[0;32m     43\u001B[0m     \u001B[38;5;28;01mreturn\u001B[39;00m c\n\u001B[1;32m---> 46\u001B[0m c \u001B[38;5;241m=\u001B[39m \u001B[43mmain\u001B[49m\u001B[43m(\u001B[49m\u001B[43mh\u001B[49m\u001B[43m)\u001B[49m\n",
      "File \u001B[1;32mC:\\GitHub\\fast-uncertainty-quantification\\shared\\decorators.py:80\u001B[0m, in \u001B[0;36minit_decorator.<locals>.wrapper\u001B[1;34m(h, *args, **kwargs)\u001B[0m\n\u001B[0;32m     76\u001B[0m \u001B[38;5;28;01mdef\u001B[39;00m \u001B[38;5;21mwrapper\u001B[39m(h: \u001B[38;5;28mdict\u001B[39m, \u001B[38;5;241m*\u001B[39margs, \u001B[38;5;241m*\u001B[39m\u001B[38;5;241m*\u001B[39mkwargs):\n\u001B[0;32m     77\u001B[0m     \u001B[38;5;28;01massert\u001B[39;00m \u001B[38;5;28mtype\u001B[39m(h) \u001B[38;5;241m==\u001B[39m \u001B[38;5;28mdict\u001B[39m, \\\n\u001B[0;32m     78\u001B[0m         (\u001B[38;5;124m\"\u001B[39m\u001B[38;5;124mSee `wandb_decorator` for more information.\u001B[39m\u001B[38;5;124m\"\u001B[39m)\n\u001B[1;32m---> 80\u001B[0m     \u001B[43minit\u001B[49m\u001B[43m(\u001B[49m\u001B[43mh\u001B[49m\u001B[43m)\u001B[49m\n\u001B[0;32m     81\u001B[0m     result \u001B[38;5;241m=\u001B[39m func(h, \u001B[38;5;241m*\u001B[39margs, \u001B[38;5;241m*\u001B[39m\u001B[38;5;241m*\u001B[39mkwargs)\n\u001B[0;32m     83\u001B[0m     \u001B[38;5;28;01mreturn\u001B[39;00m result\n",
      "File \u001B[1;32mC:\\GitHub\\fast-uncertainty-quantification\\shared\\decorators.py:74\u001B[0m, in \u001B[0;36minit_decorator.<locals>.init\u001B[1;34m(h)\u001B[0m\n\u001B[0;32m     71\u001B[0m gc\u001B[38;5;241m.\u001B[39mcollect()\n\u001B[0;32m     73\u001B[0m \u001B[38;5;66;03m# set random seeds\u001B[39;00m\n\u001B[1;32m---> 74\u001B[0m set_seed(\u001B[43mh\u001B[49m\u001B[43m[\u001B[49m\u001B[38;5;124;43m'\u001B[39;49m\u001B[38;5;124;43mseed\u001B[39;49m\u001B[38;5;124;43m'\u001B[39;49m\u001B[43m]\u001B[49m)\n",
      "\u001B[1;31mKeyError\u001B[0m: 'seed'"
     ]
    }
   ],
   "execution_count": 6
  },
  {
   "metadata": {},
   "cell_type": "code",
   "source": "",
   "id": "2d9a2c7348a3bc1",
   "outputs": [],
   "execution_count": null
  },
  {
   "metadata": {},
   "cell_type": "code",
   "source": "",
   "id": "a7b9902756f8d206",
   "outputs": [],
   "execution_count": null
  },
  {
   "metadata": {},
   "cell_type": "code",
   "source": "",
   "id": "82622fb7fb81a841",
   "outputs": [],
   "execution_count": null
  },
  {
   "metadata": {},
   "cell_type": "code",
   "source": "",
   "id": "9680fb7e5fd7de9d",
   "outputs": [],
   "execution_count": null
  },
  {
   "metadata": {},
   "cell_type": "code",
   "source": "",
   "id": "5908aff8c71714ee",
   "outputs": [],
   "execution_count": null
  },
  {
   "metadata": {},
   "cell_type": "code",
   "source": "",
   "id": "3914ada15b223428",
   "outputs": [],
   "execution_count": null
  }
 ],
 "metadata": {
  "kernelspec": {
   "display_name": "Python 3",
   "language": "python",
   "name": "python3"
  },
  "language_info": {
   "codemirror_mode": {
    "name": "ipython",
    "version": 2
   },
   "file_extension": ".py",
   "mimetype": "text/x-python",
   "name": "python",
   "nbconvert_exporter": "python",
   "pygments_lexer": "ipython2",
   "version": "2.7.6"
  }
 },
 "nbformat": 4,
 "nbformat_minor": 5
}
