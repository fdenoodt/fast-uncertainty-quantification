{
 "cells": [
  {
   "cell_type": "code",
   "id": "initial_id",
   "metadata": {
    "collapsed": true,
    "ExecuteTime": {
     "end_time": "2024-10-04T19:50:30.260942Z",
     "start_time": "2024-10-04T19:50:30.236507Z"
    }
   },
   "source": [
    "from lightning import Trainer\n",
    "import torch\n",
    "from torch import nn\n",
    "import lightning as L\n",
    "from torch.utils.data import DataLoader\n",
    "from torchvision.datasets import MNIST\n",
    "from torchvision import transforms\n",
    "import torch.nn.functional as F\n",
    "import matplotlib.pyplot as plt\n",
    "import torchvision.transforms.functional as TF\n",
    "import numpy as np\n",
    "\n",
    "torch.set_float32_matmul_precision('medium')\n",
    "\n",
    "\n",
    "class Classifier(L.LightningModule):\n",
    "    def __init__(self, in_channels, latent_dims: list, latent_strides: list, latent_kernel_sizes: list,\n",
    "                 num_classes: int):\n",
    "        super(Classifier, self).__init__()\n",
    "        self.latent_dims = latent_dims\n",
    "\n",
    "        # Encoder layers. Each layer will be a reparameterization layer\n",
    "        layers = []\n",
    "        for dim, stride, kernel_size in zip(latent_dims, latent_strides, latent_kernel_sizes):\n",
    "            layers.append(nn.Conv2d(in_channels, dim, kernel_size, stride))\n",
    "            in_channels = dim\n",
    "\n",
    "        self.layers = nn.ModuleList(layers)\n",
    "        self.fc = nn.Linear(latent_dims[-1], num_classes)\n",
    "\n",
    "    def forward(self, x):\n",
    "        # (batch, C, H, W)\n",
    "        assert x.dim() == 4, f\"Input shape is {x.shape}, expected 4 dimensions.\"\n",
    "        for layer in self.layers:\n",
    "            x = layer(x)\n",
    "            x = nn.functional.relu(x)\n",
    "\n",
    "        # average pooling\n",
    "        x = nn.functional.avg_pool2d(x, x.size()[2:]).view(x.size(0), -1)\n",
    "        x = self.fc(x)\n",
    "        return x\n",
    "\n",
    "    def foward_multiple(self, x):\n",
    "        \"\"\"Returns the predictions of all views of the input.\"\"\"\n",
    "\n",
    "        # (batch, nb_views, C, H, W)\n",
    "        assert x.dim() == 5, f\"Input shape is {x.shape}, expected 5 dimensions.\"\n",
    "\n",
    "        batch, nb_views, c, h, w = x.shape\n",
    "        x = x.view(-1, c, h, w)  # (batch * nb_views, C, H, W)\n",
    "        x = self(x)\n",
    "        x = x.view(batch, nb_views, -1)  # (batch, nb_views, num_classes)\n",
    "        return x\n",
    "\n",
    "    def training_step(self, batch, batch_idx):\n",
    "        x, y = batch\n",
    "        y_hat = self(x)\n",
    "        loss = nn.functional.cross_entropy(y_hat, y)\n",
    "        return loss\n",
    "\n",
    "    def validation_step(self, batch, batch_idx):\n",
    "        x, y = batch\n",
    "        y_hat = self(x)\n",
    "        loss = nn.functional.cross_entropy(y_hat, y)\n",
    "        return loss\n",
    "\n",
    "    def test_step(self, batch, batch_idx):\n",
    "        x, y = batch\n",
    "        y_hat = self(x)\n",
    "        loss = nn.functional.cross_entropy(y_hat, y)\n",
    "        acc = (y_hat.argmax(dim=1) == y).float().mean()\n",
    "        self.log('test_acc', acc)\n",
    "        return loss\n",
    "\n",
    "    def configure_optimizers(self):\n",
    "        return torch.optim.Adam(self.parameters(), lr=1e-3)\n",
    "\n",
    "\n",
    "# def subsample(x: torch.Tensor):\n",
    "#     assert x.dim() == 3  # (C, H, W)\n",
    "# \n",
    "#     # sample 1/4 of the pixels while preserving order\n",
    "#     c, h, w = x.size()\n",
    "#     x = x.view(c, h * w)\n",
    "#     \n",
    "#     num_pixels = h * w\n",
    "#     num_sampled_pixels = num_pixels // 4\n",
    "#     indices = torch.randperm(num_pixels)[:num_sampled_pixels]\n",
    "#     # sort the indices to preserve the order\n",
    "#     indices = indices.sort().values\n",
    "#     x = x[:, indices]\n",
    "#     x = x.view(c, h // 2, w // 2)\n",
    "#     return x\n",
    "\n",
    "def subsample(x: torch.Tensor, downscale_factor=2, noise_factor=0.05):\n",
    "    assert x.dim() == 3  # (C, H, W)\n",
    "\n",
    "    # Downsample using average pooling\n",
    "    x = F.avg_pool2d(x, kernel_size=downscale_factor)\n",
    "\n",
    "    # Introduce small random noise\n",
    "    noise = torch.randn_like(x) * noise_factor\n",
    "    x = x + noise\n",
    "\n",
    "    # Clip values to stay within the valid range (e.g., for MNIST this is [0, 1])\n",
    "    x = torch.clamp(x, 0.0, 1.0)\n",
    "\n",
    "    return x\n",
    "\n",
    "\n",
    "def subsample_with_random_stride(x: torch.Tensor, downscale_factor=2, max_offset=1):\n",
    "    assert x.dim() == 3  # (C, H, W)\n",
    "\n",
    "    # Randomly shift the starting point of the pooling window\n",
    "    offset_h = torch.randint(0, max_offset + 1, (1,)).item()\n",
    "    offset_w = torch.randint(0, max_offset + 1, (1,)).item()\n",
    "\n",
    "    # Apply padding to ensure pooling still works after shifting\n",
    "    x = F.pad(x, (offset_w, 0, offset_h, 0), mode='reflect')\n",
    "\n",
    "    # Downsample using average pooling\n",
    "    x = F.avg_pool2d(x, kernel_size=downscale_factor, stride=downscale_factor)\n",
    "\n",
    "    return x\n",
    "\n",
    "\n",
    "def subsample_with_patch_dropout(x: torch.Tensor, patch_size=2, dropout_prob=0.2):\n",
    "    assert x.dim() == 3  # (C, H, W)\n",
    "\n",
    "    # Divide the image into patches and randomly drop some\n",
    "    c, h, w = x.size()\n",
    "    patches_per_dim = h // patch_size\n",
    "    mask = torch.rand(patches_per_dim, patches_per_dim) > dropout_prob\n",
    "\n",
    "    # Reshape mask to match image resolution\n",
    "    mask = mask.repeat_interleave(patch_size, dim=0).repeat_interleave(patch_size, dim=1)\n",
    "    mask = mask.unsqueeze(0).expand(c, -1, -1)  # expand to channel dimension\n",
    "\n",
    "    # Apply the mask (dropout)\n",
    "    x = x * mask\n",
    "\n",
    "    # Downsample after patch dropout\n",
    "    x = F.avg_pool2d(x, kernel_size=patch_size)\n",
    "\n",
    "    return x\n",
    "\n",
    "\n",
    "def subsample_with_random_transform(x: torch.Tensor, downscale_factor=2):\n",
    "    assert x.dim() == 3  # (C, H, W)\n",
    "\n",
    "    # Random affine transformations (rotation, translation, scaling)\n",
    "    angle = torch.randn(1).item() * 45  # Random rotation (-10 to 10 degrees)\n",
    "    translate = [torch.randint(-2, 3, (1,)).item(), torch.randint(-2, 3, (1,)).item()]\n",
    "    scale = 1.0 + torch.randn(1).item() * 0.1  # Scale within [0.9, 1.1]\n",
    "\n",
    "    # Apply transformations (converted to PIL Image for easy manipulation)\n",
    "    x_pil = TF.to_pil_image(x.squeeze(0))  # Remove channel dim for MNIST (assumed grayscale)\n",
    "    x_pil = TF.affine(x_pil, angle=angle, translate=translate, scale=scale, shear=0)\n",
    "\n",
    "    # Convert back to tensor and add channel dim again\n",
    "    x = TF.to_tensor(x_pil).unsqueeze(0)\n",
    "\n",
    "    # Downsample using average pooling\n",
    "    x = F.avg_pool2d(x, kernel_size=downscale_factor)\n",
    "\n",
    "    # Remove channel dimension for imshow compatibility\n",
    "    x = x.squeeze(0)\n",
    "\n",
    "    return x\n",
    "\n",
    "\n",
    "def subsample_with_pixel_swapping(x: torch.Tensor, swap_prob=0.1, downscale_factor=2):\n",
    "    assert x.dim() == 3  # (C, H, W)\n",
    "\n",
    "    # Generate a mask for swapping pixels\n",
    "    c, h, w = x.size()\n",
    "    swap_mask = torch.rand(h, w) < swap_prob\n",
    "\n",
    "    # Add channel dimension to the mask\n",
    "    swap_mask = swap_mask.unsqueeze(0).expand(c, -1, -1)\n",
    "\n",
    "    # Shift the image by one pixel in a random direction and swap pixels according to the mask\n",
    "    shift_direction = torch.randint(0, 4, (1,)).item()  # Randomly pick direction: 0=up, 1=down, 2=left, 3=right\n",
    "    if shift_direction == 0:\n",
    "        x_shifted = F.pad(x[:, 1:, :], (0, 0, 0, 1), mode='reflect')\n",
    "    elif shift_direction == 1:\n",
    "        x_shifted = F.pad(x[:, :-1, :], (0, 0, 1, 0), mode='reflect')\n",
    "    elif shift_direction == 2:\n",
    "        x_shifted = F.pad(x[:, :, 1:], (0, 1, 0, 0), mode='reflect')\n",
    "    else:\n",
    "        x_shifted = F.pad(x[:, :, :-1], (1, 0, 0, 0), mode='reflect')\n",
    "\n",
    "    x[swap_mask] = x_shifted[swap_mask]\n",
    "\n",
    "    # Downsample after swapping\n",
    "    x = F.avg_pool2d(x, kernel_size=downscale_factor)\n",
    "\n",
    "    return x\n",
    "\n",
    "\n",
    "def rnd_subsample_method(x: torch.Tensor):\n",
    "    return subsample_with_random_transform(x)\n",
    "    # methods = [subsample,\n",
    "    #            subsample_with_random_stride,\n",
    "    #            subsample_with_patch_dropout,\n",
    "    #            subsample_with_random_transform,\n",
    "    #            subsample_with_pixel_swapping\n",
    "    #            ]\n",
    "    # return methods[torch.randint(0, len(methods), (1,)).item()](x)\n",
    "\n",
    "\n",
    "def create_multiple_views(x: torch.Tensor, num_views: int, transformation: callable):\n",
    "    return torch.stack([transformation(x) for _ in range(num_views)], dim=0)\n"
   ],
   "outputs": [],
   "execution_count": 29
  },
  {
   "metadata": {
    "ExecuteTime": {
     "end_time": "2024-10-04T19:50:30.372252Z",
     "start_time": "2024-10-04T19:50:30.260942Z"
    }
   },
   "cell_type": "code",
   "source": [
    "def show_transformations():\n",
    "    # dispay the different subsampling methods, same image repeated 3 times\n",
    "    transform = transforms.Compose([transforms.ToTensor()])  #rnd_subsample_method])\n",
    "    mnist_train = MNIST(\"../data\", train=True, download=True, transform=transform)\n",
    "\n",
    "    methods = [\n",
    "        # subsample,\n",
    "        #        subsample_with_random_stride,\n",
    "        #        subsample_with_patch_dropout,\n",
    "        subsample_with_random_transform,\n",
    "        # subsample_with_pixel_swapping\n",
    "    ]\n",
    "    x, y = mnist_train[0]\n",
    "    for method in methods:\n",
    "        # create 3 images and display them side by side\n",
    "        imgs = [method(x) for _ in range(3)]\n",
    "        imgs = torch.cat(imgs, dim=2)\n",
    "        plt.imshow(imgs.squeeze(0), cmap='gray')\n",
    "        plt.title(method.__name__)\n",
    "        plt.show()\n",
    "\n",
    "\n",
    "show_transformations()"
   ],
   "id": "4d411989a300e9a4",
   "outputs": [
    {
     "data": {
      "text/plain": [
       "<Figure size 640x480 with 1 Axes>"
      ],
      "image/png": "[encoded data removed]"
     },
     "metadata": {},
     "output_type": "display_data"
    }
   ],
   "execution_count": 30
  },
  {
   "metadata": {
    "ExecuteTime": {
     "end_time": "2024-10-04T19:52:45.421312Z",
     "start_time": "2024-10-04T19:50:30.373530Z"
    }
   },
   "cell_type": "code",
   "source": [
    "def data_loaders(transformations: list):\n",
    "    transform = transforms.Compose([transforms.ToTensor()] + transformations)\n",
    "    mnist_train = MNIST(\"../data\", train=True, download=True, transform=transform)\n",
    "    mnist_val = MNIST(\"../data\", train=False, download=True, transform=transform)\n",
    "\n",
    "    train_loader = DataLoader(mnist_train, batch_size=32, shuffle=True)\n",
    "    val_loader = DataLoader(mnist_val, batch_size=32, shuffle=False)\n",
    "    return train_loader, val_loader\n",
    "\n",
    "\n",
    "train_loader, val_loader = data_loaders([rnd_subsample_method])\n",
    "\n",
    "c = Classifier(\n",
    "    in_channels=1,\n",
    "    latent_dims=[32, 64],\n",
    "    latent_strides=[2, 2],\n",
    "    latent_kernel_sizes=[3, 3],\n",
    "    num_classes=10,\n",
    ")\n",
    "\n",
    "trainer = Trainer(max_epochs=5, fast_dev_run=False)\n",
    "trainer.fit(c, train_loader, val_loader)\n",
    "\n",
    "# Evaluate the model\n",
    "results = trainer.test(c, val_loader)\n",
    "\n",
    "# Print accuracy\n",
    "print(f\"Test Accuracy: {results[0]['test_acc']:.4f}\")"
   ],
   "id": "38f85f6fd1a1f6af",
   "outputs": [
    {
     "name": "stderr",
     "output_type": "stream",
     "text": [
      "GPU available: True (cuda), used: True\n",
      "TPU available: False, using: 0 TPU cores\n",
      "IPU available: False, using: 0 IPUs\n",
      "HPU available: False, using: 0 HPUs\n",
      "LOCAL_RANK: 0 - CUDA_VISIBLE_DEVICES: [0]\n",
      "\n",
      "  | Name   | Type       | Params\n",
      "--------------------------------------\n",
      "0 | layers | ModuleList | 18.8 K\n",
      "1 | fc     | Linear     | 650   \n",
      "--------------------------------------\n",
      "19.5 K    Trainable params\n",
      "0         Non-trainable params\n",
      "19.5 K    Total params\n",
      "0.078     Total estimated model params size (MB)\n"
     ]
    },
    {
     "data": {
      "text/plain": [
       "Sanity Checking: |          | 0/? [00:00<?, ?it/s]"
      ],
      "application/vnd.jupyter.widget-view+json": {
       "version_major": 2,
       "version_minor": 0,
       "model_id": "70bd18c6b36047f1ab712ca0513905ba"
      }
     },
     "metadata": {},
     "output_type": "display_data"
    },
    {
     "data": {
      "text/plain": [
       "Training: |          | 0/? [00:00<?, ?it/s]"
      ],
      "application/vnd.jupyter.widget-view+json": {
       "version_major": 2,
       "version_minor": 0,
       "model_id": "79aa1b7219ae4d4ea62ad3733b089cd4"
      }
     },
     "metadata": {},
     "output_type": "display_data"
    },
    {
     "data": {
      "text/plain": [
       "Validation: |          | 0/? [00:00<?, ?it/s]"
      ],
      "application/vnd.jupyter.widget-view+json": {
       "version_major": 2,
       "version_minor": 0,
       "model_id": "ec3e7c025dcb437fab1c9f5c506c6d33"
      }
     },
     "metadata": {},
     "output_type": "display_data"
    },
    {
     "data": {
      "text/plain": [
       "Validation: |          | 0/? [00:00<?, ?it/s]"
      ],
      "application/vnd.jupyter.widget-view+json": {
       "version_major": 2,
       "version_minor": 0,
       "model_id": "f59813d10def439a8b86e1beb6145c93"
      }
     },
     "metadata": {},
     "output_type": "display_data"
    },
    {
     "data": {
      "text/plain": [
       "Validation: |          | 0/? [00:00<?, ?it/s]"
      ],
      "application/vnd.jupyter.widget-view+json": {
       "version_major": 2,
       "version_minor": 0,
       "model_id": "694ea8d9531147e5a76b386eb0c201f3"
      }
     },
     "metadata": {},
     "output_type": "display_data"
    },
    {
     "data": {
      "text/plain": [
       "Validation: |          | 0/? [00:00<?, ?it/s]"
      ],
      "application/vnd.jupyter.widget-view+json": {
       "version_major": 2,
       "version_minor": 0,
       "model_id": "502332c42edb4ecfb0a00e3d90018dcf"
      }
     },
     "metadata": {},
     "output_type": "display_data"
    },
    {
     "data": {
      "text/plain": [
       "Validation: |          | 0/? [00:00<?, ?it/s]"
      ],
      "application/vnd.jupyter.widget-view+json": {
       "version_major": 2,
       "version_minor": 0,
       "model_id": "f8b73422b26e4ac8bf55c0dc353f5353"
      }
     },
     "metadata": {},
     "output_type": "display_data"
    },
    {
     "name": "stderr",
     "output_type": "stream",
     "text": [
      "`Trainer.fit` stopped: `max_epochs=5` reached.\n",
      "LOCAL_RANK: 0 - CUDA_VISIBLE_DEVICES: [0]\n"
     ]
    },
    {
     "data": {
      "text/plain": [
       "Testing: |          | 0/? [00:00<?, ?it/s]"
      ],
      "application/vnd.jupyter.widget-view+json": {
       "version_major": 2,
       "version_minor": 0,
       "model_id": "856ad07ce290429b9e31d16ee98b6a03"
      }
     },
     "metadata": {},
     "output_type": "display_data"
    },
    {
     "data": {
      "text/plain": [
       "┏━━━━━━━━━━━━━━━━━━━━━━━━━━━┳━━━━━━━━━━━━━━━━━━━━━━━━━━━┓\n",
       "┃\u001B[1m \u001B[0m\u001B[1m       Test metric       \u001B[0m\u001B[1m \u001B[0m┃\u001B[1m \u001B[0m\u001B[1m      DataLoader 0       \u001B[0m\u001B[1m \u001B[0m┃\n",
       "┡━━━━━━━━━━━━━━━━━━━━━━━━━━━╇━━━━━━━━━━━━━━━━━━━━━━━━━━━┩\n",
       "│\u001B[36m \u001B[0m\u001B[36m        test_acc         \u001B[0m\u001B[36m \u001B[0m│\u001B[35m \u001B[0m\u001B[35m    0.736299991607666    \u001B[0m\u001B[35m \u001B[0m│\n",
       "└───────────────────────────┴───────────────────────────┘\n"
      ],
      "text/html": [
       "<pre style=\"white-space:pre;overflow-x:auto;line-height:normal;font-family:Menlo,'DejaVu Sans Mono',consolas,'Courier New',monospace\">┏━━━━━━━━━━━━━━━━━━━━━━━━━━━┳━━━━━━━━━━━━━━━━━━━━━━━━━━━┓\n",
       "┃<span style=\"font-weight: bold\">        Test metric        </span>┃<span style=\"font-weight: bold\">       DataLoader 0        </span>┃\n",
       "┡━━━━━━━━━━━━━━━━━━━━━━━━━━━╇━━━━━━━━━━━━━━━━━━━━━━━━━━━┩\n",
       "│<span style=\"color: #008080; text-decoration-color: #008080\">         test_acc          </span>│<span style=\"color: #800080; text-decoration-color: #800080\">     0.736299991607666     </span>│\n",
       "└───────────────────────────┴───────────────────────────┘\n",
       "</pre>\n"
      ]
     },
     "metadata": {},
     "output_type": "display_data"
    },
    {
     "name": "stdout",
     "output_type": "stream",
     "text": [
      "Test Accuracy: 0.7363\n"
     ]
    }
   ],
   "execution_count": 31
  },
  {
   "metadata": {
    "ExecuteTime": {
     "end_time": "2024-10-04T19:52:45.437089Z",
     "start_time": "2024-10-04T19:52:45.422307Z"
    }
   },
   "cell_type": "code",
   "source": "# Help me do uncertainty estimation by using the variance of the predictions",
   "id": "27e82791e8b32dec",
   "outputs": [],
   "execution_count": 32
  },
  {
   "metadata": {
    "ExecuteTime": {
     "end_time": "2024-10-04T19:53:16.077132Z",
     "start_time": "2024-10-04T19:52:45.438513Z"
    }
   },
   "cell_type": "code",
   "source": [
    "from torch import Tensor\n",
    "from typing import Tuple\n",
    "\n",
    "\n",
    "def _variances_vs_accuracy_per_input_img(classifier: Classifier, batch: Tuple[Tensor, Tensor]) -> Tensor:\n",
    "    \"\"\"Returns tensor of shape (batch, 2),\n",
    "    where the first column is the variance and the second column\n",
    "    is 1 or 0 if the prediction is correct or not.\"\"\"\n",
    "\n",
    "    x, y = batch\n",
    "    assert x.dim() == 5  # (batch, nb_views, C, H, W)\n",
    "\n",
    "    # 1) per view, compute the predictions\n",
    "    predictions = classifier.foward_multiple(x)  # (batch_size, num_views, num_classes)\n",
    "    assert len(predictions.shape) == 3, f\"Predictions shape is {predictions.shape}, expected 3 dimensions.\"\n",
    "\n",
    "    # 2) compute the variance of the predictions\n",
    "    variance = predictions.var(dim=1)  # (batch_size, num_classes)\n",
    "    average_variance = variance.mean(dim=1)  # (batch_size)\n",
    "\n",
    "    # 3) get mean of the predictions and take argmax\n",
    "    final_predictions = predictions.mean(dim=1).argmax(dim=1)  # (batch_size)\n",
    "\n",
    "    # 4) compute the accuracy of the mode with the labels\n",
    "    accuracy = (final_predictions == y)  # (batch_size)\n",
    "\n",
    "    # 5) stack the variance and accuracy\n",
    "    stack = torch.stack((average_variance, accuracy), dim=1)  # (batch_size, 2)\n",
    "    return stack\n",
    "\n",
    "\n",
    "def variances_vs_accuracy_per_input_img(classifier: Classifier, data_loader: DataLoader) -> Tensor:\n",
    "    \"\"\"Returns tensor of shape (batch, 2),\n",
    "    where the first column is the variance and the second column\n",
    "    is 1 or 0 if the prediction is correct or not.\"\"\"\n",
    "\n",
    "    var_vs_accuracy = None\n",
    "    for batch in data_loader:\n",
    "        batch_var_vs_accuracy = _variances_vs_accuracy_per_input_img(classifier, batch)\n",
    "        if var_vs_accuracy is None:\n",
    "            var_vs_accuracy = batch_var_vs_accuracy\n",
    "        else:\n",
    "            var_vs_accuracy = torch.cat((var_vs_accuracy, batch_var_vs_accuracy), dim=0)\n",
    "\n",
    "    return var_vs_accuracy\n",
    "\n",
    "\n",
    "c.eval()\n",
    "train, val = data_loaders([lambda _: create_multiple_views(_, 15, subsample_with_random_transform)])\n",
    "res = variances_vs_accuracy_per_input_img(c, val)\n",
    "print(res.shape)"
   ],
   "id": "2d9a2c7348a3bc1",
   "outputs": [
    {
     "name": "stdout",
     "output_type": "stream",
     "text": [
      "torch.Size([10000, 2])\n"
     ]
    }
   ],
   "execution_count": 33
  },
  {
   "metadata": {
    "ExecuteTime": {
     "end_time": "2024-10-04T19:53:16.193575Z",
     "start_time": "2024-10-04T19:53:16.077132Z"
    }
   },
   "cell_type": "code",
   "source": [
    "def distribution_variances_per_wrong_or_correct_prediction(var_vs_accuracy: Tensor):\n",
    "    variances = var_vs_accuracy[:, 0].numpy()  # scalar values\n",
    "    accuracies = var_vs_accuracy[:, 1].numpy()  # 0 or 1s\n",
    "\n",
    "    fig, ax = plt.subplots()\n",
    "    colors = ['blue', 'red']  # Colors for correct and wrong predictions\n",
    "    labels = ['Correct Predictions', 'Wrong Predictions']\n",
    "\n",
    "    for i, use_correct_predictions in enumerate([1., 0.]):\n",
    "        indices = np.where(accuracies == use_correct_predictions)[0]\n",
    "        variances_filtered = variances[indices]\n",
    "        ax.hist(variances_filtered, bins=25, color=colors[i], alpha=0.5, label=labels[i])\n",
    "\n",
    "    ax.set_xlabel(\"Variance\")\n",
    "    ax.set_ylabel(\"Count\")\n",
    "    ax.set_title(\"Variance Distribution for Correct vs Wrong Predictions\")\n",
    "    ax.legend()\n",
    "\n",
    "    # Log the matplotlib figure to wandb\n",
    "    # if options.use_wandb:\n",
    "    #     wandb_section = get_wandb_audio_classific_key(opt, classifier_config)\n",
    "    #     wandb.log({f\"{wandb_section}_softmax/variance_distribution_combined\": wandb.Image(fig)})\n",
    "\n",
    "    plt.show()\n",
    "    plt.close(fig)\n",
    "\n",
    "\n",
    "distribution_variances_per_wrong_or_correct_prediction(res.detach())"
   ],
   "id": "a7b9902756f8d206",
   "outputs": [
    {
     "data": {
      "text/plain": [
       "<Figure size 640x480 with 1 Axes>"
      ],
      "image/png": "[encoded data removed]"
     },
     "metadata": {},
     "output_type": "display_data"
    }
   ],
   "execution_count": 34
  },
  {
   "metadata": {
    "ExecuteTime": {
     "end_time": "2024-10-04T19:53:16.323123Z",
     "start_time": "2024-10-04T19:53:16.194687Z"
    }
   },
   "cell_type": "code",
   "source": [
    "def distribution_variances_per_wrong_or_correct_prediction_normalized(var_vs_accuracy: Tensor):\n",
    "    variances = var_vs_accuracy[:, 0].numpy()  # scalar values\n",
    "    accuracies = var_vs_accuracy[:, 1].numpy()  # 0 or 1s\n",
    "\n",
    "    fig, ax = plt.subplots()\n",
    "    colors = ['blue', 'red']  # Colors for correct and wrong predictions\n",
    "    labels = ['Correct Predictions', 'Wrong Predictions']\n",
    "\n",
    "    for i, use_correct_predictions in enumerate([1., 0.]):\n",
    "        indices = np.where(accuracies == use_correct_predictions)[0]\n",
    "        variances_filtered = variances[indices]\n",
    "        ax.hist(variances_filtered, bins=25, color=colors[i], alpha=0.5, label=labels[i], density=True)\n",
    "\n",
    "    ax.set_xlabel(\"Variance\")\n",
    "    ax.set_ylabel(\"Density\")\n",
    "    ax.set_title(\"Variance Distribution for Correct vs Wrong Predictions\")\n",
    "    ax.legend()\n",
    "\n",
    "    # Log the matplotlib figure to wandb\n",
    "    # if options.use_wandb:\n",
    "    #     wandb_section = get_wandb_audio_classific_key(opt, classifier_config)\n",
    "    #     wandb.log({f\"{wandb_section}_softmax/variance_distribution_combined\": wandb.Image(fig)})\n",
    "\n",
    "    plt.show()\n",
    "    plt.close(fig)\n",
    "\n",
    "\n",
    "distribution_variances_per_wrong_or_correct_prediction_normalized(res.detach())\n"
   ],
   "id": "82622fb7fb81a841",
   "outputs": [
    {
     "data": {
      "text/plain": [
       "<Figure size 640x480 with 1 Axes>"
      ],
      "image/png": "[encoded data removed]"
     },
     "metadata": {},
     "output_type": "display_data"
    }
   ],
   "execution_count": 35
  },
  {
   "metadata": {
    "ExecuteTime": {
     "end_time": "2024-10-04T19:53:16.338675Z",
     "start_time": "2024-10-04T19:53:16.323123Z"
    }
   },
   "cell_type": "code",
   "source": "",
   "id": "5908aff8c71714ee",
   "outputs": [],
   "execution_count": 35
  }
 ],
 "metadata": {
  "kernelspec": {
   "display_name": "Python 3",
   "language": "python",
   "name": "python3"
  },
  "language_info": {
   "codemirror_mode": {
    "name": "ipython",
    "version": 2
   },
   "file_extension": ".py",
   "mimetype": "text/x-python",
   "name": "python",
   "nbconvert_exporter": "python",
   "pygments_lexer": "ipython2",
   "version": "2.7.6"
  }
 },
 "nbformat": 4,
 "nbformat_minor": 5
}
