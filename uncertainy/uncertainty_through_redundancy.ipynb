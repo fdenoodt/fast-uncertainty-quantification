{
 "cells": [
  {
   "metadata": {
    "ExecuteTime": {
     "end_time": "2024-10-12T18:32:34.622728Z",
     "start_time": "2024-10-12T18:32:34.612095Z"
    }
   },
   "cell_type": "code",
   "source": [
    "from typing import Tuple\n",
    "import matplotlib.pyplot as plt\n",
    "import numpy as np\n",
    "import torch\n",
    "import torch.nn.functional as F\n",
    "from lightning import Trainer\n",
    "from torch import Tensor\n",
    "from torch.utils.data import DataLoader\n",
    "from torchvision import transforms\n",
    "from torchvision.datasets import MNIST\n",
    "\n",
    "from shared import overwrite_args_cli\n",
    "from shared.loss import Loss\n",
    "from shared.model import Classifier\n",
    "from shared.transformations import create_multiple_views\n",
    "from shared.transformations import subsample_with_random_transform\n",
    "from shared.data.data_loader import data_loaders\n",
    "\n",
    "torch.set_float32_matmul_precision('medium')\n",
    "\n",
    "h = {  # hyperparameters\n",
    "    'dataset': 'MNIST',  #'TOY_REGRESSION', 'RADIO',\n",
    "    'dataset_path': '../data/',\n",
    "\n",
    "    'num_views': 1,\n",
    "    # 'loss': 'cross_entropy',  # 'cross_entropy', 'cross_entropy_with_distinct_path_regularization',\n",
    "    'alpha': 1, #0.35 seems to kinda work w/ acc 0.9,  # 1 for cross_entropy, 0 for distinct_path_regularization\n",
    "\n",
    "    'in_channels': 1,\n",
    "    'latent_dims': [32, 64],\n",
    "    'latent_strides': [2, 2],\n",
    "    'latent_kernel_sizes': [3, 3],\n",
    "    'num_classes': 10,\n",
    "\n",
    "    'epochs': 2,\n",
    "    'learning_rate': 1e-3,\n",
    "    'checkpoint_path': './saved_models',\n",
    "    'batch_size': 32,\n",
    "    'num_workers': 4,\n",
    "\n",
    "    'limit_train_batches': 1.0,\n",
    "    'limit_val_batches': 1.0,\n",
    "    'limit_test_batches': 1.0,\n",
    "\n",
    "    'use_wandb': False,\n",
    "\n",
    "    'wandb_project': 'uncertainty',\n",
    "    'wandb_entity': 'oBoii',\n",
    "    'wandb_name': 'radio',\n",
    "\n",
    "    'train': True,  # Set this to false if you only want to evaluate the model\n",
    "    'fast_dev_run': False,\n",
    "    'overfit_batches': 0.0\n",
    "}\n",
    "\n",
    "h = overwrite_args_cli(h)\n",
    "# assert h['loss'] in ['cross_entropy', 'cross_entropy_with_distinct_path_regularization']"
   ],
   "id": "907486a9da6273f0",
   "outputs": [],
   "execution_count": 248
  },
  {
   "metadata": {
    "ExecuteTime": {
     "end_time": "2024-10-12T18:32:34.740470Z",
     "start_time": "2024-10-12T18:32:34.624108Z"
    }
   },
   "cell_type": "code",
   "source": [
    "def show_transformations():\n",
    "    # dispay the different subsampling methods, same image repeated 3 times\n",
    "    transform = transforms.Compose([transforms.ToTensor()])  #rnd_subsample_method])\n",
    "    mnist_train = MNIST(h['dataset_path'], train=True, download=True, transform=transform)\n",
    "\n",
    "    methods = [\n",
    "        # subsample,\n",
    "        #        subsample_with_random_stride,\n",
    "        #        subsample_with_patch_dropout,\n",
    "        subsample_with_random_transform,\n",
    "        # subsample_with_pixel_swapping\n",
    "    ]\n",
    "    x, y = mnist_train[0]\n",
    "    for method in methods:\n",
    "        # create 3 images and display them side by side\n",
    "        imgs = [method(x) for _ in range(3)]\n",
    "        imgs = torch.cat(imgs, dim=2)\n",
    "        plt.imshow(imgs.squeeze(0), cmap='gray')\n",
    "        plt.title(method.__name__)\n",
    "        plt.show()\n",
    "\n",
    "\n",
    "show_transformations()"
   ],
   "id": "4d411989a300e9a4",
   "outputs": [
    {
     "data": {
      "text/plain": [
       "<Figure size 640x480 with 1 Axes>"
      ],
      "image/png": "[encoded data removed]"
     },
     "metadata": {},
     "output_type": "display_data"
    }
   ],
   "execution_count": 249
  },
  {
   "metadata": {
    "ExecuteTime": {
     "end_time": "2024-10-12T18:33:30.877186Z",
     "start_time": "2024-10-12T18:32:34.741474Z"
    }
   },
   "cell_type": "code",
   "source": [
    "train_loader, val_loader = data_loaders(\n",
    "    h,\n",
    "    [lambda _: create_multiple_views(_, h['num_views'], subsample_with_random_transform)])\n",
    "\n",
    "c = Classifier(\n",
    "    h=h,\n",
    "    in_channels=h['in_channels'],\n",
    "    latent_dims=h['latent_dims'],\n",
    "    latent_strides=h['latent_strides'],\n",
    "    latent_kernel_sizes=h['latent_kernel_sizes'],\n",
    "    num_classes=h['num_classes'],\n",
    "    loss=Loss(h['alpha'])\n",
    ")\n",
    "\n",
    "trainer = Trainer(max_epochs=h['epochs'], fast_dev_run=h['fast_dev_run'], overfit_batches=h['overfit_batches'])\n",
    "\n",
    "if h['train']:\n",
    "    trainer.fit(c, train_loader, val_loader)\n",
    "\n",
    "# Evaluate the model\n",
    "results = trainer.test(c, val_loader)\n",
    "\n",
    "# Print accuracy\n",
    "print(f\"Test Accuracy: {results[0]['test_acc']:.4f}\")"
   ],
   "id": "38f85f6fd1a1f6af",
   "outputs": [
    {
     "name": "stderr",
     "output_type": "stream",
     "text": [
      "GPU available: True (cuda), used: True\n",
      "TPU available: False, using: 0 TPU cores\n",
      "IPU available: False, using: 0 IPUs\n",
      "HPU available: False, using: 0 HPUs\n",
      "LOCAL_RANK: 0 - CUDA_VISIBLE_DEVICES: [0]\n",
      "\n",
      "  | Name   | Type       | Params\n",
      "--------------------------------------\n",
      "0 | loss   | Loss       | 0     \n",
      "1 | layers | ModuleList | 19.0 K\n",
      "2 | fc     | Linear     | 650   \n",
      "--------------------------------------\n",
      "19.7 K    Trainable params\n",
      "0         Non-trainable params\n",
      "19.7 K    Total params\n",
      "0.079     Total estimated model params size (MB)\n"
     ]
    },
    {
     "data": {
      "text/plain": [
       "Sanity Checking: |          | 0/? [00:00<?, ?it/s]"
      ],
      "application/vnd.jupyter.widget-view+json": {
       "version_major": 2,
       "version_minor": 0,
       "model_id": "0a087fed6b484b82af85fdc165672a87"
      }
     },
     "metadata": {},
     "output_type": "display_data"
    },
    {
     "data": {
      "text/plain": [
       "Training: |          | 0/? [00:00<?, ?it/s]"
      ],
      "application/vnd.jupyter.widget-view+json": {
       "version_major": 2,
       "version_minor": 0,
       "model_id": "255c1b5e6b3c457888443bd4c99655eb"
      }
     },
     "metadata": {},
     "output_type": "display_data"
    },
    {
     "data": {
      "text/plain": [
       "Validation: |          | 0/? [00:00<?, ?it/s]"
      ],
      "application/vnd.jupyter.widget-view+json": {
       "version_major": 2,
       "version_minor": 0,
       "model_id": "316b6bab48ed4814b3bb80ab8e4aaac7"
      }
     },
     "metadata": {},
     "output_type": "display_data"
    },
    {
     "data": {
      "text/plain": [
       "Validation: |          | 0/? [00:00<?, ?it/s]"
      ],
      "application/vnd.jupyter.widget-view+json": {
       "version_major": 2,
       "version_minor": 0,
       "model_id": "f829b08ab4b44b56af2a327658e5a3b3"
      }
     },
     "metadata": {},
     "output_type": "display_data"
    },
    {
     "name": "stderr",
     "output_type": "stream",
     "text": [
      "`Trainer.fit` stopped: `max_epochs=2` reached.\n",
      "LOCAL_RANK: 0 - CUDA_VISIBLE_DEVICES: [0]\n"
     ]
    },
    {
     "data": {
      "text/plain": [
       "Testing: |          | 0/? [00:00<?, ?it/s]"
      ],
      "application/vnd.jupyter.widget-view+json": {
       "version_major": 2,
       "version_minor": 0,
       "model_id": "f22c552e2796435f9e4fe5e6df8707cd"
      }
     },
     "metadata": {},
     "output_type": "display_data"
    },
    {
     "data": {
      "text/plain": [
       "┏━━━━━━━━━━━━━━━━━━━━━━━━━━━┳━━━━━━━━━━━━━━━━━━━━━━━━━━━┓\n",
       "┃\u001B[1m \u001B[0m\u001B[1m       Test metric       \u001B[0m\u001B[1m \u001B[0m┃\u001B[1m \u001B[0m\u001B[1m      DataLoader 0       \u001B[0m\u001B[1m \u001B[0m┃\n",
       "┡━━━━━━━━━━━━━━━━━━━━━━━━━━━╇━━━━━━━━━━━━━━━━━━━━━━━━━━━┩\n",
       "│\u001B[36m \u001B[0m\u001B[36m        test_acc         \u001B[0m\u001B[36m \u001B[0m│\u001B[35m \u001B[0m\u001B[35m    0.76419997215271     \u001B[0m\u001B[35m \u001B[0m│\n",
       "└───────────────────────────┴───────────────────────────┘\n"
      ],
      "text/html": [
       "<pre style=\"white-space:pre;overflow-x:auto;line-height:normal;font-family:Menlo,'DejaVu Sans Mono',consolas,'Courier New',monospace\">┏━━━━━━━━━━━━━━━━━━━━━━━━━━━┳━━━━━━━━━━━━━━━━━━━━━━━━━━━┓\n",
       "┃<span style=\"font-weight: bold\">        Test metric        </span>┃<span style=\"font-weight: bold\">       DataLoader 0        </span>┃\n",
       "┡━━━━━━━━━━━━━━━━━━━━━━━━━━━╇━━━━━━━━━━━━━━━━━━━━━━━━━━━┩\n",
       "│<span style=\"color: #008080; text-decoration-color: #008080\">         test_acc          </span>│<span style=\"color: #800080; text-decoration-color: #800080\">     0.76419997215271      </span>│\n",
       "└───────────────────────────┴───────────────────────────┘\n",
       "</pre>\n"
      ]
     },
     "metadata": {},
     "output_type": "display_data"
    },
    {
     "name": "stdout",
     "output_type": "stream",
     "text": [
      "Test Accuracy: 0.7642\n"
     ]
    }
   ],
   "execution_count": 250
  },
  {
   "metadata": {
    "ExecuteTime": {
     "end_time": "2024-10-12T18:33:33.969929Z",
     "start_time": "2024-10-12T18:33:30.878769Z"
    }
   },
   "cell_type": "code",
   "source": [
    "def _variances_vs_accuracy_per_input_img(classifier: Classifier, batch: Tuple[Tensor, Tensor]) -> Tensor:\n",
    "    \"\"\"Returns tensor of shape (batch, 2),\n",
    "    where the first column is the variance and the second column\n",
    "    is 1 or 0 if the prediction is correct or not.\"\"\"\n",
    "\n",
    "    x, y = batch\n",
    "    assert x.dim() == 5  # (batch, nb_views, C, H, W)\n",
    "\n",
    "    # 1) per view, compute the predictions\n",
    "    predictions, _ = classifier.forward_multiple(x)  # (batch_size, num_views, num_classes)\n",
    "    assert len(predictions.shape) == 3, f\"Predictions shape is {predictions.shape}, expected 3 dimensions.\"\n",
    "\n",
    "    # softmax the predictions\n",
    "    predictions = F.softmax(predictions, dim=2)  # (batch_size, num_views, num_classes)\n",
    "\n",
    "    # 2) compute the variance of the predictions\n",
    "    variance = predictions.var(dim=1)  # (batch_size, num_classes)\n",
    "    average_variance = variance.mean(dim=1)  # (batch_size)\n",
    "\n",
    "    # 3) get mean of the predictions and take argmax\n",
    "    final_predictions = predictions.mean(dim=1).argmax(dim=1)  # (batch_size)\n",
    "\n",
    "    # 4) compute the accuracy of the mode with the labels\n",
    "    accuracy = (final_predictions == y)  # (batch_size)\n",
    "\n",
    "    # 5) stack the variance and accuracy\n",
    "    stack = torch.stack((average_variance, accuracy), dim=1)  # (batch_size, 2)\n",
    "    return stack\n",
    "\n",
    "\n",
    "def variances_vs_accuracy_per_input_img(classifier: Classifier, data_loader: DataLoader) -> Tensor:\n",
    "    \"\"\"Returns tensor of shape (batch, 2),\n",
    "    where the first column is the variance and the second column\n",
    "    is 1 or 0 if the prediction is correct or not.\"\"\"\n",
    "\n",
    "    classifier.eval()\n",
    "    var_vs_accuracy = None\n",
    "    for batch in data_loader:\n",
    "        batch_var_vs_accuracy = _variances_vs_accuracy_per_input_img(classifier, batch)\n",
    "        if var_vs_accuracy is None:\n",
    "            var_vs_accuracy = batch_var_vs_accuracy\n",
    "        else:\n",
    "            var_vs_accuracy = torch.cat((var_vs_accuracy, batch_var_vs_accuracy), dim=0)\n",
    "\n",
    "    return var_vs_accuracy\n",
    "\n",
    "\n",
    "c.eval()\n",
    "train, val = data_loaders(h, [lambda _: create_multiple_views(_, h['num_views'], subsample_with_random_transform)])\n",
    "# (batch_size, 2) where 1st column is variance and 2nd is 1 or 0 if the prediction is correct or not\n",
    "res = variances_vs_accuracy_per_input_img(c, val)\n",
    "print(res.shape)"
   ],
   "id": "2d9a2c7348a3bc1",
   "outputs": [
    {
     "name": "stderr",
     "output_type": "stream",
     "text": [
      "C:\\Users\\fabia\\AppData\\Local\\Temp\\ipykernel_30740\\2428959188.py:17: UserWarning: var(): degrees of freedom is <= 0. Correction should be strictly less than the reduction factor (input numel divided by output numel). (Triggered internally at C:\\actions-runner\\_work\\pytorch\\pytorch\\builder\\windows\\pytorch\\aten\\src\\ATen\\native\\ReduceOps.cpp:1760.)\n",
      "  variance = predictions.var(dim=1)  # (batch_size, num_classes)\n"
     ]
    },
    {
     "name": "stdout",
     "output_type": "stream",
     "text": [
      "torch.Size([10000, 2])\n"
     ]
    }
   ],
   "execution_count": 251
  },
  {
   "metadata": {
    "ExecuteTime": {
     "end_time": "2024-10-12T18:33:35.031751Z",
     "start_time": "2024-10-12T18:33:33.969929Z"
    }
   },
   "cell_type": "code",
   "source": [
    "def distribution_variances_per_wrong_or_correct_prediction(var_vs_accuracy: Tensor):\n",
    "    variances = var_vs_accuracy[:, 0].numpy()  # scalar values\n",
    "    accuracies = var_vs_accuracy[:, 1].numpy()  # 0 or 1s\n",
    "\n",
    "    fig, ax = plt.subplots()\n",
    "    colors = ['blue', 'red']  # Colors for correct and wrong predictions\n",
    "    labels = ['Correct Predictions', 'Wrong Predictions']\n",
    "\n",
    "    for i, use_correct_predictions in enumerate([1., 0.]):\n",
    "        indices = np.where(accuracies == use_correct_predictions)[0]\n",
    "        variances_filtered = variances[indices]\n",
    "        ax.hist(variances_filtered, bins=25, color=colors[i], alpha=0.5, label=labels[i])\n",
    "\n",
    "    ax.set_xlabel(\"Variance\")\n",
    "    ax.set_ylabel(\"Count\")\n",
    "    ax.set_title(\"Variance Distribution for Correct vs Wrong Predictions\")\n",
    "    ax.legend()\n",
    "\n",
    "    # Log the matplotlib figure to wandb\n",
    "    # if options.use_wandb:\n",
    "    #     wandb_section = get_wandb_audio_classific_key(opt, classifier_config)\n",
    "    #     wandb.log({f\"{wandb_section}_softmax/variance_distribution_combined\": wandb.Image(fig)})\n",
    "\n",
    "    plt.show()\n",
    "    plt.close(fig)\n",
    "\n",
    "\n",
    "distribution_variances_per_wrong_or_correct_prediction(res.detach())"
   ],
   "id": "a7b9902756f8d206",
   "outputs": [
    {
     "name": "stderr",
     "output_type": "stream",
     "text": [
      "C:\\Python\\Python39\\lib\\site-packages\\matplotlib\\axes\\_axes.py:6831: RuntimeWarning: All-NaN slice encountered\n",
      "  xmin = min(xmin, np.nanmin(xi))\n",
      "C:\\Python\\Python39\\lib\\site-packages\\matplotlib\\axes\\_axes.py:6832: RuntimeWarning: All-NaN slice encountered\n",
      "  xmax = max(xmax, np.nanmax(xi))\n"
     ]
    },
    {
     "ename": "ValueError",
     "evalue": "autodetected range of [nan, nan] is not finite",
     "output_type": "error",
     "traceback": [
      "\u001B[1;31m---------------------------------------------------------------------------\u001B[0m",
      "\u001B[1;31mValueError\u001B[0m                                Traceback (most recent call last)",
      "Cell \u001B[1;32mIn[252], line 28\u001B[0m\n\u001B[0;32m     24\u001B[0m     plt\u001B[38;5;241m.\u001B[39mshow()\n\u001B[0;32m     25\u001B[0m     plt\u001B[38;5;241m.\u001B[39mclose(fig)\n\u001B[1;32m---> 28\u001B[0m \u001B[43mdistribution_variances_per_wrong_or_correct_prediction\u001B[49m\u001B[43m(\u001B[49m\u001B[43mres\u001B[49m\u001B[38;5;241;43m.\u001B[39;49m\u001B[43mdetach\u001B[49m\u001B[43m(\u001B[49m\u001B[43m)\u001B[49m\u001B[43m)\u001B[49m\n",
      "Cell \u001B[1;32mIn[252], line 12\u001B[0m, in \u001B[0;36mdistribution_variances_per_wrong_or_correct_prediction\u001B[1;34m(var_vs_accuracy)\u001B[0m\n\u001B[0;32m     10\u001B[0m     indices \u001B[38;5;241m=\u001B[39m np\u001B[38;5;241m.\u001B[39mwhere(accuracies \u001B[38;5;241m==\u001B[39m use_correct_predictions)[\u001B[38;5;241m0\u001B[39m]\n\u001B[0;32m     11\u001B[0m     variances_filtered \u001B[38;5;241m=\u001B[39m variances[indices]\n\u001B[1;32m---> 12\u001B[0m     \u001B[43max\u001B[49m\u001B[38;5;241;43m.\u001B[39;49m\u001B[43mhist\u001B[49m\u001B[43m(\u001B[49m\u001B[43mvariances_filtered\u001B[49m\u001B[43m,\u001B[49m\u001B[43m \u001B[49m\u001B[43mbins\u001B[49m\u001B[38;5;241;43m=\u001B[39;49m\u001B[38;5;241;43m25\u001B[39;49m\u001B[43m,\u001B[49m\u001B[43m \u001B[49m\u001B[43mcolor\u001B[49m\u001B[38;5;241;43m=\u001B[39;49m\u001B[43mcolors\u001B[49m\u001B[43m[\u001B[49m\u001B[43mi\u001B[49m\u001B[43m]\u001B[49m\u001B[43m,\u001B[49m\u001B[43m \u001B[49m\u001B[43malpha\u001B[49m\u001B[38;5;241;43m=\u001B[39;49m\u001B[38;5;241;43m0.5\u001B[39;49m\u001B[43m,\u001B[49m\u001B[43m \u001B[49m\u001B[43mlabel\u001B[49m\u001B[38;5;241;43m=\u001B[39;49m\u001B[43mlabels\u001B[49m\u001B[43m[\u001B[49m\u001B[43mi\u001B[49m\u001B[43m]\u001B[49m\u001B[43m)\u001B[49m\n\u001B[0;32m     14\u001B[0m ax\u001B[38;5;241m.\u001B[39mset_xlabel(\u001B[38;5;124m\"\u001B[39m\u001B[38;5;124mVariance\u001B[39m\u001B[38;5;124m\"\u001B[39m)\n\u001B[0;32m     15\u001B[0m ax\u001B[38;5;241m.\u001B[39mset_ylabel(\u001B[38;5;124m\"\u001B[39m\u001B[38;5;124mCount\u001B[39m\u001B[38;5;124m\"\u001B[39m)\n",
      "File \u001B[1;32mC:\\Python\\Python39\\lib\\site-packages\\matplotlib\\__init__.py:1492\u001B[0m, in \u001B[0;36m_preprocess_data.<locals>.inner\u001B[1;34m(ax, data, *args, **kwargs)\u001B[0m\n\u001B[0;32m   1489\u001B[0m \u001B[38;5;129m@functools\u001B[39m\u001B[38;5;241m.\u001B[39mwraps(func)\n\u001B[0;32m   1490\u001B[0m \u001B[38;5;28;01mdef\u001B[39;00m \u001B[38;5;21minner\u001B[39m(ax, \u001B[38;5;241m*\u001B[39margs, data\u001B[38;5;241m=\u001B[39m\u001B[38;5;28;01mNone\u001B[39;00m, \u001B[38;5;241m*\u001B[39m\u001B[38;5;241m*\u001B[39mkwargs):\n\u001B[0;32m   1491\u001B[0m     \u001B[38;5;28;01mif\u001B[39;00m data \u001B[38;5;129;01mis\u001B[39;00m \u001B[38;5;28;01mNone\u001B[39;00m:\n\u001B[1;32m-> 1492\u001B[0m         \u001B[38;5;28;01mreturn\u001B[39;00m func(ax, \u001B[38;5;241m*\u001B[39m\u001B[38;5;28mmap\u001B[39m(sanitize_sequence, args), \u001B[38;5;241m*\u001B[39m\u001B[38;5;241m*\u001B[39mkwargs)\n\u001B[0;32m   1494\u001B[0m     bound \u001B[38;5;241m=\u001B[39m new_sig\u001B[38;5;241m.\u001B[39mbind(ax, \u001B[38;5;241m*\u001B[39margs, \u001B[38;5;241m*\u001B[39m\u001B[38;5;241m*\u001B[39mkwargs)\n\u001B[0;32m   1495\u001B[0m     auto_label \u001B[38;5;241m=\u001B[39m (bound\u001B[38;5;241m.\u001B[39marguments\u001B[38;5;241m.\u001B[39mget(label_namer)\n\u001B[0;32m   1496\u001B[0m                   \u001B[38;5;129;01mor\u001B[39;00m bound\u001B[38;5;241m.\u001B[39mkwargs\u001B[38;5;241m.\u001B[39mget(label_namer))\n",
      "File \u001B[1;32mC:\\Python\\Python39\\lib\\site-packages\\matplotlib\\axes\\_axes.py:6859\u001B[0m, in \u001B[0;36mAxes.hist\u001B[1;34m(self, x, bins, range, density, weights, cumulative, bottom, histtype, align, orientation, rwidth, log, color, label, stacked, **kwargs)\u001B[0m\n\u001B[0;32m   6855\u001B[0m \u001B[38;5;66;03m# Loop through datasets\u001B[39;00m\n\u001B[0;32m   6856\u001B[0m \u001B[38;5;28;01mfor\u001B[39;00m i \u001B[38;5;129;01min\u001B[39;00m \u001B[38;5;28mrange\u001B[39m(nx):\n\u001B[0;32m   6857\u001B[0m     \u001B[38;5;66;03m# this will automatically overwrite bins,\u001B[39;00m\n\u001B[0;32m   6858\u001B[0m     \u001B[38;5;66;03m# so that each histogram uses the same bins\u001B[39;00m\n\u001B[1;32m-> 6859\u001B[0m     m, bins \u001B[38;5;241m=\u001B[39m np\u001B[38;5;241m.\u001B[39mhistogram(x[i], bins, weights\u001B[38;5;241m=\u001B[39mw[i], \u001B[38;5;241m*\u001B[39m\u001B[38;5;241m*\u001B[39mhist_kwargs)\n\u001B[0;32m   6860\u001B[0m     tops\u001B[38;5;241m.\u001B[39mappend(m)\n\u001B[0;32m   6861\u001B[0m tops \u001B[38;5;241m=\u001B[39m np\u001B[38;5;241m.\u001B[39marray(tops, \u001B[38;5;28mfloat\u001B[39m)  \u001B[38;5;66;03m# causes problems later if it's an int\u001B[39;00m\n",
      "File \u001B[1;32mC:\\Python\\Python39\\lib\\site-packages\\numpy\\lib\\histograms.py:780\u001B[0m, in \u001B[0;36mhistogram\u001B[1;34m(a, bins, range, density, weights)\u001B[0m\n\u001B[0;32m    680\u001B[0m \u001B[38;5;250m\u001B[39m\u001B[38;5;124mr\u001B[39m\u001B[38;5;124;03m\"\"\"\u001B[39;00m\n\u001B[0;32m    681\u001B[0m \u001B[38;5;124;03mCompute the histogram of a dataset.\u001B[39;00m\n\u001B[0;32m    682\u001B[0m \n\u001B[1;32m   (...)\u001B[0m\n\u001B[0;32m    776\u001B[0m \n\u001B[0;32m    777\u001B[0m \u001B[38;5;124;03m\"\"\"\u001B[39;00m\n\u001B[0;32m    778\u001B[0m a, weights \u001B[38;5;241m=\u001B[39m _ravel_and_check_weights(a, weights)\n\u001B[1;32m--> 780\u001B[0m bin_edges, uniform_bins \u001B[38;5;241m=\u001B[39m \u001B[43m_get_bin_edges\u001B[49m\u001B[43m(\u001B[49m\u001B[43ma\u001B[49m\u001B[43m,\u001B[49m\u001B[43m \u001B[49m\u001B[43mbins\u001B[49m\u001B[43m,\u001B[49m\u001B[43m \u001B[49m\u001B[38;5;28;43mrange\u001B[39;49m\u001B[43m,\u001B[49m\u001B[43m \u001B[49m\u001B[43mweights\u001B[49m\u001B[43m)\u001B[49m\n\u001B[0;32m    782\u001B[0m \u001B[38;5;66;03m# Histogram is an integer or a float array depending on the weights.\u001B[39;00m\n\u001B[0;32m    783\u001B[0m \u001B[38;5;28;01mif\u001B[39;00m weights \u001B[38;5;129;01mis\u001B[39;00m \u001B[38;5;28;01mNone\u001B[39;00m:\n",
      "File \u001B[1;32mC:\\Python\\Python39\\lib\\site-packages\\numpy\\lib\\histograms.py:426\u001B[0m, in \u001B[0;36m_get_bin_edges\u001B[1;34m(a, bins, range, weights)\u001B[0m\n\u001B[0;32m    423\u001B[0m     \u001B[38;5;28;01mif\u001B[39;00m n_equal_bins \u001B[38;5;241m<\u001B[39m \u001B[38;5;241m1\u001B[39m:\n\u001B[0;32m    424\u001B[0m         \u001B[38;5;28;01mraise\u001B[39;00m \u001B[38;5;167;01mValueError\u001B[39;00m(\u001B[38;5;124m'\u001B[39m\u001B[38;5;124m`bins` must be positive, when an integer\u001B[39m\u001B[38;5;124m'\u001B[39m)\n\u001B[1;32m--> 426\u001B[0m     first_edge, last_edge \u001B[38;5;241m=\u001B[39m \u001B[43m_get_outer_edges\u001B[49m\u001B[43m(\u001B[49m\u001B[43ma\u001B[49m\u001B[43m,\u001B[49m\u001B[43m \u001B[49m\u001B[38;5;28;43mrange\u001B[39;49m\u001B[43m)\u001B[49m\n\u001B[0;32m    428\u001B[0m \u001B[38;5;28;01melif\u001B[39;00m np\u001B[38;5;241m.\u001B[39mndim(bins) \u001B[38;5;241m==\u001B[39m \u001B[38;5;241m1\u001B[39m:\n\u001B[0;32m    429\u001B[0m     bin_edges \u001B[38;5;241m=\u001B[39m np\u001B[38;5;241m.\u001B[39masarray(bins)\n",
      "File \u001B[1;32mC:\\Python\\Python39\\lib\\site-packages\\numpy\\lib\\histograms.py:323\u001B[0m, in \u001B[0;36m_get_outer_edges\u001B[1;34m(a, range)\u001B[0m\n\u001B[0;32m    321\u001B[0m     first_edge, last_edge \u001B[38;5;241m=\u001B[39m a\u001B[38;5;241m.\u001B[39mmin(), a\u001B[38;5;241m.\u001B[39mmax()\n\u001B[0;32m    322\u001B[0m     \u001B[38;5;28;01mif\u001B[39;00m \u001B[38;5;129;01mnot\u001B[39;00m (np\u001B[38;5;241m.\u001B[39misfinite(first_edge) \u001B[38;5;129;01mand\u001B[39;00m np\u001B[38;5;241m.\u001B[39misfinite(last_edge)):\n\u001B[1;32m--> 323\u001B[0m         \u001B[38;5;28;01mraise\u001B[39;00m \u001B[38;5;167;01mValueError\u001B[39;00m(\n\u001B[0;32m    324\u001B[0m             \u001B[38;5;124m\"\u001B[39m\u001B[38;5;124mautodetected range of [\u001B[39m\u001B[38;5;132;01m{}\u001B[39;00m\u001B[38;5;124m, \u001B[39m\u001B[38;5;132;01m{}\u001B[39;00m\u001B[38;5;124m] is not finite\u001B[39m\u001B[38;5;124m\"\u001B[39m\u001B[38;5;241m.\u001B[39mformat(first_edge, last_edge))\n\u001B[0;32m    326\u001B[0m \u001B[38;5;66;03m# expand empty range to avoid divide by zero\u001B[39;00m\n\u001B[0;32m    327\u001B[0m \u001B[38;5;28;01mif\u001B[39;00m first_edge \u001B[38;5;241m==\u001B[39m last_edge:\n",
      "\u001B[1;31mValueError\u001B[0m: autodetected range of [nan, nan] is not finite"
     ]
    },
    {
     "data": {
      "text/plain": [
       "<Figure size 640x480 with 1 Axes>"
      ],
      "image/png": "[encoded data removed]"
     },
     "metadata": {},
     "output_type": "display_data"
    }
   ],
   "execution_count": 252
  },
  {
   "metadata": {
    "ExecuteTime": {
     "end_time": "2024-10-12T18:33:35.031751Z",
     "start_time": "2024-10-12T18:33:35.031751Z"
    }
   },
   "cell_type": "code",
   "source": [
    "def distribution_variances_per_wrong_or_correct_prediction_normalized(var_vs_accuracy: Tensor):\n",
    "    variances = var_vs_accuracy[:, 0].numpy()  # scalar values\n",
    "    accuracies = var_vs_accuracy[:, 1].numpy()  # 0 or 1s\n",
    "\n",
    "    fig, ax = plt.subplots()\n",
    "    colors = ['blue', 'red']  # Colors for correct and wrong predictions\n",
    "    labels = ['Correct Predictions', 'Wrong Predictions']\n",
    "\n",
    "    for i, use_correct_predictions in enumerate([1., 0.]):\n",
    "        indices = np.where(accuracies == use_correct_predictions)[0]\n",
    "        variances_filtered = variances[indices]\n",
    "        ax.hist(variances_filtered, bins=25, color=colors[i], alpha=0.5, label=labels[i], density=True)\n",
    "\n",
    "    ax.set_xlabel(\"Variance\")\n",
    "    ax.set_ylabel(\"Density\")\n",
    "    ax.set_title(\"Variance Distribution for Correct vs Wrong Predictions\")\n",
    "    ax.legend()\n",
    "\n",
    "    # Log the matplotlib figure to wandb\n",
    "    # if options.use_wandb:\n",
    "    #     wandb_section = get_wandb_audio_classific_key(opt, classifier_config)\n",
    "    #     wandb.log({f\"{wandb_section}_softmax/variance_distribution_combined\": wandb.Image(fig)})\n",
    "\n",
    "    plt.show()\n",
    "    plt.close(fig)\n",
    "\n",
    "\n",
    "distribution_variances_per_wrong_or_correct_prediction_normalized(res.detach())\n"
   ],
   "id": "82622fb7fb81a841",
   "outputs": [],
   "execution_count": null
  },
  {
   "metadata": {},
   "cell_type": "code",
   "source": [
    "# Function to add Gaussian noise\n",
    "def add_gaussian_noise(images, noise_factor):\n",
    "    noisy_images = images + noise_factor * torch.randn(*images.shape)\n",
    "    noisy_images = torch.clip(noisy_images, 0., 1.)\n",
    "    return noisy_images\n",
    "\n",
    "\n",
    "# Function to compute model's uncertainty (e.g., softmax variance)\n",
    "def compute_uncertainty(outputs):  # outputs: (batch_size, num_classes)\n",
    "    # Softmax the output to get probabilities\n",
    "    probs = F.softmax(outputs, dim=1)\n",
    "\n",
    "    # Compute variance (uncertainty) across the class probabilities\n",
    "    uncertainty = probs.var(dim=1)\n",
    "    return uncertainty\n",
    "\n",
    "\n",
    "def plot_uncertainty_vs_noise_level(model, test_loader):\n",
    "    model.eval()\n",
    "\n",
    "    # List to store noise levels and corresponding uncertainty values\n",
    "    noise_levels = np.linspace(0, 1, 10)\n",
    "    mean_uncertainties = []\n",
    "\n",
    "    for noise_factor in noise_levels:\n",
    "        all_uncertainties = []\n",
    "\n",
    "        for images, _ in test_loader:\n",
    "            noisy_images = add_gaussian_noise(images, noise_factor)\n",
    "            with torch.no_grad():\n",
    "                outputs, _ = model(noisy_images)\n",
    "                uncertainty = compute_uncertainty(outputs)\n",
    "                all_uncertainties.append(uncertainty.mean().item())\n",
    "\n",
    "        mean_uncertainties.append(np.mean(all_uncertainties))\n",
    "\n",
    "    # Plotting the results\n",
    "    plt.figure(figsize=(8, 6))\n",
    "    plt.plot(noise_levels, mean_uncertainties, marker='o', linestyle='-')\n",
    "    plt.title('Model Uncertainty under Distributional Shift (Gaussian Noise)')\n",
    "    plt.xlabel('Noise Level (std dev of Gaussian noise)')\n",
    "    plt.ylabel('Mean Uncertainty (Softmax Variance)')\n",
    "    plt.grid(True)\n",
    "    plt.show()\n",
    "\n",
    "\n",
    "plot_uncertainty_vs_noise_level(c, val_loader)\n"
   ],
   "id": "5908aff8c71714ee",
   "outputs": [],
   "execution_count": null
  },
  {
   "metadata": {},
   "cell_type": "code",
   "source": "",
   "id": "3914ada15b223428",
   "outputs": [],
   "execution_count": null
  }
 ],
 "metadata": {
  "kernelspec": {
   "display_name": "Python 3",
   "language": "python",
   "name": "python3"
  },
  "language_info": {
   "codemirror_mode": {
    "name": "ipython",
    "version": 2
   },
   "file_extension": ".py",
   "mimetype": "text/x-python",
   "name": "python",
   "nbconvert_exporter": "python",
   "pygments_lexer": "ipython2",
   "version": "2.7.6"
  }
 },
 "nbformat": 4,
 "nbformat_minor": 5
}
