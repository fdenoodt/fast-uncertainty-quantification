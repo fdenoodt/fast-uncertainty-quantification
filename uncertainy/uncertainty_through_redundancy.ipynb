{
 "cells": [
  {
   "metadata": {
    "ExecuteTime": {
     "end_time": "2024-10-12T17:04:51.329311Z",
     "start_time": "2024-10-12T17:04:51.312953Z"
    }
   },
   "cell_type": "code",
   "source": [
    "import os\n",
    "import lightning as L\n",
    "import torch\n",
    "import torchvision.transforms.functional as TF\n",
    "from lightning import Trainer\n",
    "from torch import nn\n",
    "from torchvision.datasets import MNIST\n",
    "from torch import Tensor\n",
    "from typing import Tuple, Any\n",
    "import torch.nn.functional as F\n",
    "from torchvision import transforms\n",
    "from torch.utils.data import DataLoader\n",
    "import matplotlib.pyplot as plt\n",
    "import numpy as np\n",
    "from shared import overwrite_args_cli\n",
    "\n",
    "torch.set_float32_matmul_precision('medium')\n",
    "\n",
    "h = {  # hyperparameters\n",
    "    'dataset': 'MNIST',  #'TOY_REGRESSION', 'RADIO',\n",
    "    'dataset_path': '../data/',\n",
    "\n",
    "    'num_views': 5,\n",
    "    # 'loss': 'cross_entropy',  # 'cross_entropy', 'cross_entropy_with_distinct_path_regularization',\n",
    "    'alpha': 0.5, # 1 for cross_entropy, 0 for distinct_path_regularization\n",
    "\n",
    "    'in_channels': 1,\n",
    "    'latent_dims': [32, 64],\n",
    "    'latent_strides': [2, 2],\n",
    "    'latent_kernel_sizes': [3, 3],\n",
    "    'num_classes': 10,\n",
    "\n",
    "    'epochs': 2,\n",
    "    'learning_rate': 1e-3,\n",
    "    'checkpoint_path': './saved_models',\n",
    "    'batch_size': 32,\n",
    "    'num_workers': 4,\n",
    "\n",
    "    'limit_train_batches': 1.0,\n",
    "    'limit_val_batches': 1.0,\n",
    "    'limit_test_batches': 1.0,\n",
    "\n",
    "    'use_wandb': False,\n",
    "\n",
    "    'wandb_project': 'uncertainty',\n",
    "    'wandb_entity': 'oBoii',\n",
    "    'wandb_name': 'radio',\n",
    "\n",
    "    'train': True,  # Set this to false if you only want to evaluate the model\n",
    "    'fast_dev_run': False,\n",
    "    'overfit_batches': 0.0\n",
    "}\n",
    "\n",
    "h = overwrite_args_cli(h)\n",
    "# assert h['loss'] in ['cross_entropy', 'cross_entropy_with_distinct_path_regularization']"
   ],
   "id": "907486a9da6273f0",
   "outputs": [],
   "execution_count": 214
  },
  {
   "metadata": {
    "ExecuteTime": {
     "end_time": "2024-10-12T17:04:51.344962Z",
     "start_time": "2024-10-12T17:04:51.329311Z"
    }
   },
   "cell_type": "code",
   "source": [
    "def subsample(x: torch.Tensor, downscale_factor=2, noise_factor=0.05):\n",
    "    assert x.dim() == 3  # (C, H, W)\n",
    "\n",
    "    # Downsample using average pooling\n",
    "    x = F.avg_pool2d(x, kernel_size=downscale_factor)\n",
    "\n",
    "    # Introduce small random noise\n",
    "    noise = torch.randn_like(x) * noise_factor\n",
    "    x = x + noise\n",
    "\n",
    "    # Clip values to stay within the valid range (e.g., for MNIST this is [0, 1])\n",
    "    x = torch.clamp(x, 0.0, 1.0)\n",
    "\n",
    "    return x\n",
    "\n",
    "\n",
    "def subsample_with_random_stride(x: torch.Tensor, downscale_factor=2, max_offset=1):\n",
    "    assert x.dim() == 3  # (C, H, W)\n",
    "\n",
    "    # Randomly shift the starting point of the pooling window\n",
    "    offset_h = torch.randint(0, max_offset + 1, (1,)).item()\n",
    "    offset_w = torch.randint(0, max_offset + 1, (1,)).item()\n",
    "\n",
    "    # Apply padding to ensure pooling still works after shifting\n",
    "    x = F.pad(x, (offset_w, 0, offset_h, 0), mode='reflect')\n",
    "\n",
    "    # Downsample using average pooling\n",
    "    x = F.avg_pool2d(x, kernel_size=downscale_factor, stride=downscale_factor)\n",
    "\n",
    "    return x\n",
    "\n",
    "\n",
    "def subsample_with_patch_dropout(x: torch.Tensor, patch_size=2, dropout_prob=0.2):\n",
    "    assert x.dim() == 3  # (C, H, W)\n",
    "\n",
    "    # Divide the image into patches and randomly drop some\n",
    "    c, h, w = x.size()\n",
    "    patches_per_dim = h // patch_size\n",
    "    mask = torch.rand(patches_per_dim, patches_per_dim) > dropout_prob\n",
    "\n",
    "    # Reshape mask to match image resolution\n",
    "    mask = mask.repeat_interleave(patch_size, dim=0).repeat_interleave(patch_size, dim=1)\n",
    "    mask = mask.unsqueeze(0).expand(c, -1, -1)  # expand to channel dimension\n",
    "\n",
    "    # Apply the mask (dropout)\n",
    "    x = x * mask\n",
    "\n",
    "    # Downsample after patch dropout\n",
    "    x = F.avg_pool2d(x, kernel_size=patch_size)\n",
    "\n",
    "    return x\n",
    "\n",
    "\n",
    "def subsample_with_random_transform(x: torch.Tensor, downscale_factor=2):\n",
    "    assert x.dim() == 3  # (C, H, W)\n",
    "\n",
    "    # Random affine transformations (rotation, translation, scaling)\n",
    "    angle = torch.randn(1).item() * 45  # Random rotation (-10 to 10 degrees)\n",
    "    translate = [torch.randint(-2, 3, (1,)).item(), torch.randint(-2, 3, (1,)).item()]\n",
    "    scale = 1.0 + torch.randn(1).item() * 0.1  # Scale within [0.9, 1.1]\n",
    "\n",
    "    # Apply transformations (converted to PIL Image for easy manipulation)\n",
    "    x_pil = TF.to_pil_image(x.squeeze(0))  # Remove channel dim for MNIST (assumed grayscale)\n",
    "    x_pil = TF.affine(x_pil, angle=angle, translate=translate, scale=scale, shear=0)\n",
    "\n",
    "    # Convert back to tensor and add channel dim again\n",
    "    x = TF.to_tensor(x_pil).unsqueeze(0)\n",
    "\n",
    "    # Downsample using average pooling\n",
    "    x = F.avg_pool2d(x, kernel_size=downscale_factor)\n",
    "\n",
    "    # Remove channel dimension for imshow compatibility\n",
    "    x = x.squeeze(0)\n",
    "\n",
    "    return x\n",
    "\n",
    "\n",
    "def subsample_with_pixel_swapping(x: torch.Tensor, swap_prob=0.1, downscale_factor=2):\n",
    "    assert x.dim() == 3  # (C, H, W)\n",
    "\n",
    "    # Generate a mask for swapping pixels\n",
    "    c, h, w = x.size()\n",
    "    swap_mask = torch.rand(h, w) < swap_prob\n",
    "\n",
    "    # Add channel dimension to the mask\n",
    "    swap_mask = swap_mask.unsqueeze(0).expand(c, -1, -1)\n",
    "\n",
    "    # Shift the image by one pixel in a random direction and swap pixels according to the mask\n",
    "    shift_direction = torch.randint(0, 4, (1,)).item()  # Randomly pick direction: 0=up, 1=down, 2=left, 3=right\n",
    "    if shift_direction == 0:\n",
    "        x_shifted = F.pad(x[:, 1:, :], (0, 0, 0, 1), mode='reflect')\n",
    "    elif shift_direction == 1:\n",
    "        x_shifted = F.pad(x[:, :-1, :], (0, 0, 1, 0), mode='reflect')\n",
    "    elif shift_direction == 2:\n",
    "        x_shifted = F.pad(x[:, :, 1:], (0, 1, 0, 0), mode='reflect')\n",
    "    else:\n",
    "        x_shifted = F.pad(x[:, :, :-1], (1, 0, 0, 0), mode='reflect')\n",
    "\n",
    "    x[swap_mask] = x_shifted[swap_mask]\n",
    "\n",
    "    # Downsample after swapping\n",
    "    x = F.avg_pool2d(x, kernel_size=downscale_factor)\n",
    "\n",
    "    return x\n",
    "\n",
    "\n",
    "def rnd_subsample_method(x: torch.Tensor):\n",
    "    return subsample_with_random_transform(x)\n",
    "    # methods = [subsample,\n",
    "    #            subsample_with_random_stride,\n",
    "    #            subsample_with_patch_dropout,\n",
    "    #            subsample_with_random_transform,\n",
    "    #            subsample_with_pixel_swapping\n",
    "    #            ]\n",
    "    # return methods[torch.randint(0, len(methods), (1,)).item()](x)\n",
    "\n",
    "\n",
    "def create_multiple_views(x: torch.Tensor, num_views: int, transformation: callable):\n",
    "    return torch.stack([transformation(x) for _ in range(num_views)], dim=0)"
   ],
   "id": "eb449dc621c36321",
   "outputs": [],
   "execution_count": 215
  },
  {
   "metadata": {
    "ExecuteTime": {
     "end_time": "2024-10-12T17:04:51.360674Z",
     "start_time": "2024-10-12T17:04:51.344962Z"
    }
   },
   "cell_type": "code",
   "source": [
    "class Loss(L.LightningModule):\n",
    "    def __init__(self, alpha: float):\n",
    "        super(Loss, self).__init__()\n",
    "        assert 0.0 <= alpha <= 1.0, f\"Alpha must be in [0, 1], got {alpha}.\"\n",
    "\n",
    "        self.cross_entropy = nn.CrossEntropyLoss()\n",
    "        self.alpha = alpha\n",
    "\n",
    "    def forward(self, y_hat: Tensor, y: Tensor, latent_representations: list, nb_views: int):\n",
    "        y = y.unsqueeze(1).expand(-1, nb_views)  # (batch, nb_views)\n",
    "\n",
    "        # reshape to (batch * nb_views, num_classes)\n",
    "        y_hat = y_hat.view(-1, y_hat.size(2))\n",
    "        y = y.reshape(-1)\n",
    "\n",
    "        if self.alpha == 1.0:\n",
    "            return self.cross_entropy(y_hat, y)\n",
    "        else:\n",
    "            return (\n",
    "                    self.alpha * self.cross_entropy(y_hat, y) +\n",
    "                    (1 - self.alpha) * self.distinct_path_regularization(latent_representations))\n",
    "\n",
    "        # return (self.cross_entropy(y_hat, y) +\n",
    "        #         self.distinct_path_regularization(latent_representations))\n",
    "\n",
    "    # L2 distance between all pairs of views\n",
    "    # def distinct_path_regularization(self, latent_representations):\n",
    "    #     \"\"\"Compute the regularization term to penalize similar representations.\n",
    "    #     In: List of latent representations of shape (batch, nb_views, C, H, W)\n",
    "    #     Out: Scalar\n",
    "    #     \"\"\"\n",
    "    #     reg_loss = 0.0\n",
    "    #     for l in latent_representations:\n",
    "    #         assert l.dim() == 5, f\"Latent representation shape is {l.shape}, expected 5 dimensions.\"\n",
    "    #         # Compute pairwise distances between views\n",
    "    #         batch, nb_views, *dims = l.shape\n",
    "    #         l = l.view(batch, nb_views, -1)  # Flatten spatial dimensions\n",
    "    #         \n",
    "    #         distances = torch.cdist(l, l, p=2)  # Pairwise L2 distances\n",
    "    #         reg_loss += distances.mean()\n",
    "    #     return reg_loss\n",
    "\n",
    "    def distinct_path_regularization(self, latent_representations):\n",
    "        \"\"\"Compute the regularization term to penalize similar representations.\n",
    "        In: List of latent representations of shape (batch, nb_views, C, H, W)\n",
    "        Out: Scalar\n",
    "        \"\"\"\n",
    "        reg_loss = 0.0\n",
    "        for l in latent_representations:\n",
    "            assert l.dim() == 5, f\"Latent representation shape is {l.shape}, expected 5 dimensions.\"\n",
    "            # Compute pairwise dot products between views\n",
    "            batch, nb_views, *dims = l.shape\n",
    "            l = l.view(batch, nb_views, -1)  # Flatten spatial dimensions\n",
    "\n",
    "            # Normalize the vectors\n",
    "            l = F.normalize(l, p=2, dim=-1)\n",
    "\n",
    "            # Compute pairwise dot products\n",
    "            dot_products = torch.bmm(l, l.transpose(1, 2))  # (batch, nb_views, nb_views)\n",
    "\n",
    "            # We want to penalize high similarity, so we take the mean of the dot products\n",
    "            reg_loss += dot_products.mean()\n",
    "        return reg_loss\n",
    "\n",
    "# eg.: \n",
    "# torch.manual_seed(0)\n",
    "# loss = Loss(0)\n",
    "# b = 1\n",
    "# v = 5\n",
    "# y_hat = torch.randn(b, v, 10)  # (batch, nb_views, num_classes)\n",
    "# y = torch.randint(0, 10, (b, v))  # (batch, nb_views)\n",
    "# latent_representations = [torch.randn(b, v, 64, 7, 7), torch.randn(b, v, 128, 3, 3)]\n",
    "# loss(y_hat, y, latent_representations)\n"
   ],
   "id": "e19bbd674d607813",
   "outputs": [],
   "execution_count": 216
  },
  {
   "cell_type": "code",
   "id": "initial_id",
   "metadata": {
    "collapsed": true,
    "ExecuteTime": {
     "end_time": "2024-10-12T17:04:51.380107Z",
     "start_time": "2024-10-12T17:04:51.362673Z"
    }
   },
   "source": [
    "class Classifier(L.LightningModule):\n",
    "    def __init__(self, in_channels, latent_dims: list, latent_strides: list, latent_kernel_sizes: list,\n",
    "                 num_classes: int, loss: Loss):\n",
    "        super(Classifier, self).__init__()\n",
    "\n",
    "        assert callable(loss), f\"Loss must be a callable function, got {loss}.\"\n",
    "\n",
    "        self.latent_dims = latent_dims\n",
    "        self.loss: Loss = loss\n",
    "\n",
    "        # Encoder layers. Each layer will be a reparameterization layer\n",
    "        layers = []\n",
    "        for dim, stride, kernel_size in zip(latent_dims, latent_strides, latent_kernel_sizes):\n",
    "            layers.append(nn.Conv2d(in_channels, dim, kernel_size, stride))\n",
    "            layers.append(nn.BatchNorm2d(dim))\n",
    "            in_channels = dim\n",
    "\n",
    "        self.layers = nn.ModuleList(layers)\n",
    "        self.fc = nn.Linear(latent_dims[-1], num_classes)\n",
    "\n",
    "    def forward(self, x: Tensor):\n",
    "        \"\"\"Out: (batch, nb_views, num_classes), latent_representations\n",
    "        In: (batch, nb_views, C, H, W) \"\"\"\n",
    "        assert x.dim() == 5, f\"Input shape is {x.shape}, expected 5 dimensions. (batch, nb_views, C, H, W)\"\n",
    "        return self.forward_multiple(x)\n",
    "\n",
    "    def forward_single(self, x) -> Tuple[Tensor, list]:\n",
    "        \"\"\"\n",
    "        In: (batch, C, H, W)\n",
    "        Out: (batch, num_classes), latent_representations\n",
    "        \"\"\"\n",
    "        # (batch, C, H, W)\n",
    "        assert x.dim() == 4, f\"Input shape is {x.shape}, expected 4 dimensions.\"\n",
    "        latent_representations = []\n",
    "        for layer in self.layers:\n",
    "            x = layer(x)\n",
    "            if isinstance(layer, nn.BatchNorm2d):\n",
    "                x = nn.functional.relu(x)\n",
    "            latent_representations.append(x)\n",
    "\n",
    "        # average pooling\n",
    "        x = nn.functional.avg_pool2d(x, x.size()[2:]).view(x.size(0), -1)\n",
    "        x = self.fc(x)\n",
    "        return x, latent_representations\n",
    "\n",
    "    def forward_multiple(self, x) -> Tuple[Tensor, list]:\n",
    "        \"\"\"Returns the predictions and latent representations of all views of the input.\n",
    "        In: (batch, nb_views, C, H, W)\n",
    "        Out: (batch, nb_views, num_classes), latent_representations\n",
    "        \"\"\"\n",
    "\n",
    "        # (batch, nb_views, C, H, W)\n",
    "        assert x.dim() == 5, f\"Input shape is {x.shape}, expected 5 dimensions.\"\n",
    "\n",
    "        batch, nb_views, c, h, w = x.shape\n",
    "        x = x.view(-1, c, h, w)  # (batch * nb_views, C, H, W)\n",
    "        x, latent_representations = self.forward_single(x)\n",
    "        x = x.view(batch, nb_views, -1)  # (batch, nb_views, num_classes)\n",
    "\n",
    "        # Reshape latent representations\n",
    "        latent_representations = [l.view(batch, nb_views, *l.shape[1:]) for l in latent_representations]\n",
    "        return x, latent_representations\n",
    "\n",
    "    def training_step(self, batch, batch_idx):\n",
    "        x, y = batch  # x: (batch, nb_views, C, H, W), y: (batch)\n",
    "        y_hat, latent_representations = self(x)  # (batch, nb_views, num_classes)\n",
    "\n",
    "        loss = self.loss(y_hat, y, latent_representations, x.size(1))\n",
    "        return loss\n",
    "\n",
    "    def validation_step(self, batch, batch_idx):\n",
    "        x, y = batch\n",
    "        y_hat, latent_representations = self(x)\n",
    "\n",
    "        loss = self.loss(y_hat, y, latent_representations, x.size(1))\n",
    "        return loss\n",
    "\n",
    "    def test_step(self, batch, batch_idx):\n",
    "        x, y = batch # x: (batch, nb_views, C, H, W), y: (batch)\n",
    "        y_hat, latent_representations = self(x) # y_hat: (batch, nb_views, num_classes)\n",
    "\n",
    "        loss = self.loss(y_hat, y, latent_representations, x.size(1))\n",
    "\n",
    "        # torch.Size([32, 5, 10]) torch.Size([32, 5])\n",
    "        # print(y_hat.shape, y.shape)\n",
    "        # acc = (y_hat.argmax(dim=1) == y).float().mean()\n",
    "        y_hat_mean = y_hat.mean(dim=1)\n",
    "        acc = (y_hat_mean.argmax(dim=1) == y).float().mean()\n",
    "        # acc = (y_hat_mean.argmax(dim=1) == y[:, 0]).float().mean()\n",
    "\n",
    "        self.log('test_acc', acc)\n",
    "        return loss\n",
    "\n",
    "    def configure_optimizers(self):\n",
    "        return torch.optim.Adam(self.parameters(), lr=h['learning_rate'])\n",
    "\n",
    "    def save(self) -> None:\n",
    "        os.makedirs(h['checkpoint_path'], exist_ok=True)\n",
    "        torch.save(self.state_dict(), os.path.join(h['checkpoint_path'], 'model.pth'))\n",
    "\n",
    "    def load(self) -> 'SimpleNet':\n",
    "        self.load_state_dict(torch.load(os.path.join(h['checkpoint_path'], 'model.pth')))\n",
    "        self.eval()\n",
    "        return self"
   ],
   "outputs": [],
   "execution_count": 217
  },
  {
   "metadata": {
    "ExecuteTime": {
     "end_time": "2024-10-12T17:04:51.478597Z",
     "start_time": "2024-10-12T17:04:51.381406Z"
    }
   },
   "cell_type": "code",
   "source": [
    "def show_transformations():\n",
    "    # dispay the different subsampling methods, same image repeated 3 times\n",
    "    transform = transforms.Compose([transforms.ToTensor()])  #rnd_subsample_method])\n",
    "    mnist_train = MNIST(h['dataset_path'], train=True, download=True, transform=transform)\n",
    "\n",
    "    methods = [\n",
    "        # subsample,\n",
    "        #        subsample_with_random_stride,\n",
    "        #        subsample_with_patch_dropout,\n",
    "        subsample_with_random_transform,\n",
    "        # subsample_with_pixel_swapping\n",
    "    ]\n",
    "    x, y = mnist_train[0]\n",
    "    for method in methods:\n",
    "        # create 3 images and display them side by side\n",
    "        imgs = [method(x) for _ in range(3)]\n",
    "        imgs = torch.cat(imgs, dim=2)\n",
    "        plt.imshow(imgs.squeeze(0), cmap='gray')\n",
    "        plt.title(method.__name__)\n",
    "        plt.show()\n",
    "\n",
    "\n",
    "show_transformations()"
   ],
   "id": "4d411989a300e9a4",
   "outputs": [
    {
     "data": {
      "text/plain": [
       "<Figure size 640x480 with 1 Axes>"
      ],
      "image/png": "[encoded data removed]"
     },
     "metadata": {},
     "output_type": "display_data"
    }
   ],
   "execution_count": 218
  },
  {
   "metadata": {
    "ExecuteTime": {
     "end_time": "2024-10-12T17:07:50.510544Z",
     "start_time": "2024-10-12T17:04:51.478597Z"
    }
   },
   "cell_type": "code",
   "source": [
    "def data_loaders(transformations: list):\n",
    "    transform = transforms.Compose([transforms.ToTensor()] + transformations)\n",
    "    mnist_train = MNIST(h['dataset_path'], train=True, download=True, transform=transform)\n",
    "    mnist_val = MNIST(h['dataset_path'], train=False, download=True, transform=transform)\n",
    "\n",
    "    train_loader = DataLoader(mnist_train, batch_size=h['batch_size'], shuffle=True)\n",
    "    val_loader = DataLoader(mnist_val, batch_size=h['batch_size'], shuffle=False)\n",
    "    return train_loader, val_loader\n",
    "\n",
    "\n",
    "train_loader, val_loader = data_loaders(\n",
    "    [lambda _: create_multiple_views(_, h['num_views'], subsample_with_random_transform)])\n",
    "# train_loader, val_loader = data_loaders([subsample_with_random_transform])\n",
    "\n",
    "c = Classifier(\n",
    "    in_channels=h['in_channels'],\n",
    "    latent_dims=h['latent_dims'],\n",
    "    latent_strides=h['latent_strides'],\n",
    "    latent_kernel_sizes=h['latent_kernel_sizes'],\n",
    "    num_classes=h['num_classes'],\n",
    "    loss=Loss(h['alpha'])\n",
    ")\n",
    "\n",
    "trainer = Trainer(max_epochs=h['epochs'], fast_dev_run=h['fast_dev_run'], overfit_batches=h['overfit_batches'])\n",
    "\n",
    "if h['train']:\n",
    "    trainer.fit(c, train_loader, val_loader)\n",
    "\n",
    "# Evaluate the model\n",
    "results = trainer.test(c, val_loader)\n",
    "\n",
    "# Print accuracy\n",
    "print(f\"Test Accuracy: {results[0]['test_acc']:.4f}\")"
   ],
   "id": "38f85f6fd1a1f6af",
   "outputs": [
    {
     "name": "stderr",
     "output_type": "stream",
     "text": [
      "GPU available: True (cuda), used: True\n",
      "TPU available: False, using: 0 TPU cores\n",
      "IPU available: False, using: 0 IPUs\n",
      "HPU available: False, using: 0 HPUs\n",
      "LOCAL_RANK: 0 - CUDA_VISIBLE_DEVICES: [0]\n",
      "\n",
      "  | Name   | Type       | Params\n",
      "--------------------------------------\n",
      "0 | loss   | Loss       | 0     \n",
      "1 | layers | ModuleList | 19.0 K\n",
      "2 | fc     | Linear     | 650   \n",
      "--------------------------------------\n",
      "19.7 K    Trainable params\n",
      "0         Non-trainable params\n",
      "19.7 K    Total params\n",
      "0.079     Total estimated model params size (MB)\n"
     ]
    },
    {
     "data": {
      "text/plain": [
       "Sanity Checking: |          | 0/? [00:00<?, ?it/s]"
      ],
      "application/vnd.jupyter.widget-view+json": {
       "version_major": 2,
       "version_minor": 0,
       "model_id": "a211da290ce84073b6d2a9d145eb7ef1"
      }
     },
     "metadata": {},
     "output_type": "display_data"
    },
    {
     "data": {
      "text/plain": [
       "Training: |          | 0/? [00:00<?, ?it/s]"
      ],
      "application/vnd.jupyter.widget-view+json": {
       "version_major": 2,
       "version_minor": 0,
       "model_id": "9ff917d6530a4da3bf9f26aa363040eb"
      }
     },
     "metadata": {},
     "output_type": "display_data"
    },
    {
     "data": {
      "text/plain": [
       "Validation: |          | 0/? [00:00<?, ?it/s]"
      ],
      "application/vnd.jupyter.widget-view+json": {
       "version_major": 2,
       "version_minor": 0,
       "model_id": "34fa8c9b9bbe4d8581dce5db587ec21c"
      }
     },
     "metadata": {},
     "output_type": "display_data"
    },
    {
     "data": {
      "text/plain": [
       "Validation: |          | 0/? [00:00<?, ?it/s]"
      ],
      "application/vnd.jupyter.widget-view+json": {
       "version_major": 2,
       "version_minor": 0,
       "model_id": "75324ff91c1c4e2bbdfa2bc8eaeaf904"
      }
     },
     "metadata": {},
     "output_type": "display_data"
    },
    {
     "name": "stderr",
     "output_type": "stream",
     "text": [
      "`Trainer.fit` stopped: `max_epochs=2` reached.\n",
      "LOCAL_RANK: 0 - CUDA_VISIBLE_DEVICES: [0]\n"
     ]
    },
    {
     "data": {
      "text/plain": [
       "Testing: |          | 0/? [00:00<?, ?it/s]"
      ],
      "application/vnd.jupyter.widget-view+json": {
       "version_major": 2,
       "version_minor": 0,
       "model_id": "1c731a3b9caf47e6a69e4a55d30a547b"
      }
     },
     "metadata": {},
     "output_type": "display_data"
    },
    {
     "data": {
      "text/plain": [
       "┏━━━━━━━━━━━━━━━━━━━━━━━━━━━┳━━━━━━━━━━━━━━━━━━━━━━━━━━━┓\n",
       "┃\u001B[1m \u001B[0m\u001B[1m       Test metric       \u001B[0m\u001B[1m \u001B[0m┃\u001B[1m \u001B[0m\u001B[1m      DataLoader 0       \u001B[0m\u001B[1m \u001B[0m┃\n",
       "┡━━━━━━━━━━━━━━━━━━━━━━━━━━━╇━━━━━━━━━━━━━━━━━━━━━━━━━━━┩\n",
       "│\u001B[36m \u001B[0m\u001B[36m        test_acc         \u001B[0m\u001B[36m \u001B[0m│\u001B[35m \u001B[0m\u001B[35m   0.9336000084877014    \u001B[0m\u001B[35m \u001B[0m│\n",
       "└───────────────────────────┴───────────────────────────┘\n"
      ],
      "text/html": [
       "<pre style=\"white-space:pre;overflow-x:auto;line-height:normal;font-family:Menlo,'DejaVu Sans Mono',consolas,'Courier New',monospace\">┏━━━━━━━━━━━━━━━━━━━━━━━━━━━┳━━━━━━━━━━━━━━━━━━━━━━━━━━━┓\n",
       "┃<span style=\"font-weight: bold\">        Test metric        </span>┃<span style=\"font-weight: bold\">       DataLoader 0        </span>┃\n",
       "┡━━━━━━━━━━━━━━━━━━━━━━━━━━━╇━━━━━━━━━━━━━━━━━━━━━━━━━━━┩\n",
       "│<span style=\"color: #008080; text-decoration-color: #008080\">         test_acc          </span>│<span style=\"color: #800080; text-decoration-color: #800080\">    0.9336000084877014     </span>│\n",
       "└───────────────────────────┴───────────────────────────┘\n",
       "</pre>\n"
      ]
     },
     "metadata": {},
     "output_type": "display_data"
    },
    {
     "name": "stdout",
     "output_type": "stream",
     "text": [
      "Test Accuracy: 0.9336\n"
     ]
    }
   ],
   "execution_count": 219
  },
  {
   "metadata": {
    "ExecuteTime": {
     "end_time": "2024-10-12T17:08:01.585814Z",
     "start_time": "2024-10-12T17:07:50.511723Z"
    }
   },
   "cell_type": "code",
   "source": [
    "def _variances_vs_accuracy_per_input_img(classifier: Classifier, batch: Tuple[Tensor, Tensor]) -> Tensor:\n",
    "    \"\"\"Returns tensor of shape (batch, 2),\n",
    "    where the first column is the variance and the second column\n",
    "    is 1 or 0 if the prediction is correct or not.\"\"\"\n",
    "\n",
    "    x, y = batch\n",
    "    assert x.dim() == 5  # (batch, nb_views, C, H, W)\n",
    "\n",
    "    # 1) per view, compute the predictions\n",
    "    predictions, _ = classifier.forward_multiple(x)  # (batch_size, num_views, num_classes)\n",
    "    assert len(predictions.shape) == 3, f\"Predictions shape is {predictions.shape}, expected 3 dimensions.\"\n",
    "\n",
    "    # 2) compute the variance of the predictions\n",
    "    variance = predictions.var(dim=1)  # (batch_size, num_classes)\n",
    "    average_variance = variance.mean(dim=1)  # (batch_size)\n",
    "\n",
    "    # 3) get mean of the predictions and take argmax\n",
    "    final_predictions = predictions.mean(dim=1).argmax(dim=1)  # (batch_size)\n",
    "\n",
    "    # 4) compute the accuracy of the mode with the labels\n",
    "    accuracy = (final_predictions == y)  # (batch_size)\n",
    "\n",
    "    # 5) stack the variance and accuracy\n",
    "    stack = torch.stack((average_variance, accuracy), dim=1)  # (batch_size, 2)\n",
    "    return stack\n",
    "\n",
    "\n",
    "def variances_vs_accuracy_per_input_img(classifier: Classifier, data_loader: DataLoader) -> Tensor:\n",
    "    \"\"\"Returns tensor of shape (batch, 2),\n",
    "    where the first column is the variance and the second column\n",
    "    is 1 or 0 if the prediction is correct or not.\"\"\"\n",
    "\n",
    "    classifier.eval()\n",
    "    var_vs_accuracy = None\n",
    "    for batch in data_loader:\n",
    "        batch_var_vs_accuracy = _variances_vs_accuracy_per_input_img(classifier, batch)\n",
    "        if var_vs_accuracy is None:\n",
    "            var_vs_accuracy = batch_var_vs_accuracy\n",
    "        else:\n",
    "            var_vs_accuracy = torch.cat((var_vs_accuracy, batch_var_vs_accuracy), dim=0)\n",
    "\n",
    "    return var_vs_accuracy\n",
    "\n",
    "\n",
    "c.eval()\n",
    "train, val = data_loaders([lambda _: create_multiple_views(_, h['num_views'], subsample_with_random_transform)])\n",
    "res = variances_vs_accuracy_per_input_img(c,\n",
    "                                          val)  # (batch_size, 2) where 1st column is variance and 2nd is 1 or 0 if the prediction is correct or not\n",
    "print(res.shape)"
   ],
   "id": "2d9a2c7348a3bc1",
   "outputs": [
    {
     "name": "stdout",
     "output_type": "stream",
     "text": [
      "torch.Size([10000, 2])\n"
     ]
    }
   ],
   "execution_count": 220
  },
  {
   "metadata": {
    "ExecuteTime": {
     "end_time": "2024-10-12T17:08:02.474737Z",
     "start_time": "2024-10-12T17:08:01.585814Z"
    }
   },
   "cell_type": "code",
   "source": [
    "def distribution_variances_per_wrong_or_correct_prediction(var_vs_accuracy: Tensor):\n",
    "    variances = var_vs_accuracy[:, 0].numpy()  # scalar values\n",
    "    accuracies = var_vs_accuracy[:, 1].numpy()  # 0 or 1s\n",
    "\n",
    "    fig, ax = plt.subplots()\n",
    "    colors = ['blue', 'red']  # Colors for correct and wrong predictions\n",
    "    labels = ['Correct Predictions', 'Wrong Predictions']\n",
    "\n",
    "    for i, use_correct_predictions in enumerate([1., 0.]):\n",
    "        indices = np.where(accuracies == use_correct_predictions)[0]\n",
    "        variances_filtered = variances[indices]\n",
    "        ax.hist(variances_filtered, bins=25, color=colors[i], alpha=0.5, label=labels[i])\n",
    "\n",
    "    ax.set_xlabel(\"Variance\")\n",
    "    ax.set_ylabel(\"Count\")\n",
    "    ax.set_title(\"Variance Distribution for Correct vs Wrong Predictions\")\n",
    "    ax.legend()\n",
    "\n",
    "    # Log the matplotlib figure to wandb\n",
    "    # if options.use_wandb:\n",
    "    #     wandb_section = get_wandb_audio_classific_key(opt, classifier_config)\n",
    "    #     wandb.log({f\"{wandb_section}_softmax/variance_distribution_combined\": wandb.Image(fig)})\n",
    "\n",
    "    plt.show()\n",
    "    plt.close(fig)\n",
    "\n",
    "\n",
    "distribution_variances_per_wrong_or_correct_prediction(res.detach())"
   ],
   "id": "a7b9902756f8d206",
   "outputs": [
    {
     "data": {
      "text/plain": [
       "<Figure size 640x480 with 1 Axes>"
      ],
      "image/png": "[encoded data removed]"
     },
     "metadata": {},
     "output_type": "display_data"
    }
   ],
   "execution_count": 221
  },
  {
   "metadata": {
    "ExecuteTime": {
     "end_time": "2024-10-12T17:08:02.632881Z",
     "start_time": "2024-10-12T17:08:02.475738Z"
    }
   },
   "cell_type": "code",
   "source": [
    "def distribution_variances_per_wrong_or_correct_prediction_normalized(var_vs_accuracy: Tensor):\n",
    "    variances = var_vs_accuracy[:, 0].numpy()  # scalar values\n",
    "    accuracies = var_vs_accuracy[:, 1].numpy()  # 0 or 1s\n",
    "\n",
    "    fig, ax = plt.subplots()\n",
    "    colors = ['blue', 'red']  # Colors for correct and wrong predictions\n",
    "    labels = ['Correct Predictions', 'Wrong Predictions']\n",
    "\n",
    "    for i, use_correct_predictions in enumerate([1., 0.]):\n",
    "        indices = np.where(accuracies == use_correct_predictions)[0]\n",
    "        variances_filtered = variances[indices]\n",
    "        ax.hist(variances_filtered, bins=25, color=colors[i], alpha=0.5, label=labels[i], density=True)\n",
    "\n",
    "    ax.set_xlabel(\"Variance\")\n",
    "    ax.set_ylabel(\"Density\")\n",
    "    ax.set_title(\"Variance Distribution for Correct vs Wrong Predictions\")\n",
    "    ax.legend()\n",
    "\n",
    "    # Log the matplotlib figure to wandb\n",
    "    # if options.use_wandb:\n",
    "    #     wandb_section = get_wandb_audio_classific_key(opt, classifier_config)\n",
    "    #     wandb.log({f\"{wandb_section}_softmax/variance_distribution_combined\": wandb.Image(fig)})\n",
    "\n",
    "    plt.show()\n",
    "    plt.close(fig)\n",
    "\n",
    "\n",
    "distribution_variances_per_wrong_or_correct_prediction_normalized(res.detach())\n"
   ],
   "id": "82622fb7fb81a841",
   "outputs": [
    {
     "data": {
      "text/plain": [
       "<Figure size 640x480 with 1 Axes>"
      ],
      "image/png": "[encoded data removed]"
     },
     "metadata": {},
     "output_type": "display_data"
    }
   ],
   "execution_count": 222
  },
  {
   "metadata": {
    "ExecuteTime": {
     "end_time": "2024-10-12T17:09:49.772892Z",
     "start_time": "2024-10-12T17:08:02.632881Z"
    }
   },
   "cell_type": "code",
   "source": [
    "# Function to add Gaussian noise\n",
    "def add_gaussian_noise(images, noise_factor):\n",
    "    noisy_images = images + noise_factor * torch.randn(*images.shape)\n",
    "    noisy_images = torch.clip(noisy_images, 0., 1.)\n",
    "    return noisy_images\n",
    "\n",
    "\n",
    "# Function to compute model's uncertainty (e.g., softmax variance)\n",
    "def compute_uncertainty(outputs):  # outputs: (batch_size, num_classes)\n",
    "    # Softmax the output to get probabilities\n",
    "    probs = F.softmax(outputs, dim=1)\n",
    "\n",
    "    # Compute variance (uncertainty) across the class probabilities\n",
    "    uncertainty = probs.var(dim=1)\n",
    "    return uncertainty\n",
    "\n",
    "\n",
    "def plot_uncertainty_vs_noise_level(model, test_loader):\n",
    "    model.eval()\n",
    "\n",
    "    # List to store noise levels and corresponding uncertainty values\n",
    "    noise_levels = np.linspace(0, 1, 10)\n",
    "    mean_uncertainties = []\n",
    "\n",
    "    for noise_factor in noise_levels:\n",
    "        all_uncertainties = []\n",
    "\n",
    "        for images, _ in test_loader:\n",
    "            noisy_images = add_gaussian_noise(images, noise_factor)\n",
    "            with torch.no_grad():\n",
    "                outputs, _ = model(noisy_images)\n",
    "                uncertainty = compute_uncertainty(outputs)\n",
    "                all_uncertainties.append(uncertainty.mean().item())\n",
    "\n",
    "        mean_uncertainties.append(np.mean(all_uncertainties))\n",
    "\n",
    "    # Plotting the results\n",
    "    plt.figure(figsize=(8, 6))\n",
    "    plt.plot(noise_levels, mean_uncertainties, marker='o', linestyle='-')\n",
    "    plt.title('Model Uncertainty under Distributional Shift (Gaussian Noise)')\n",
    "    plt.xlabel('Noise Level (std dev of Gaussian noise)')\n",
    "    plt.ylabel('Mean Uncertainty (Softmax Variance)')\n",
    "    plt.grid(True)\n",
    "    plt.show()\n",
    "\n",
    "\n",
    "plot_uncertainty_vs_noise_level(c, val_loader)\n"
   ],
   "id": "5908aff8c71714ee",
   "outputs": [
    {
     "data": {
      "text/plain": [
       "<Figure size 800x600 with 1 Axes>"
      ],
      "image/png": "[encoded data removed]"
     },
     "metadata": {},
     "output_type": "display_data"
    }
   ],
   "execution_count": 223
  },
  {
   "metadata": {
    "ExecuteTime": {
     "end_time": "2024-10-12T17:09:49.791721Z",
     "start_time": "2024-10-12T17:09:49.775035Z"
    }
   },
   "cell_type": "code",
   "source": "",
   "id": "3914ada15b223428",
   "outputs": [],
   "execution_count": 223
  }
 ],
 "metadata": {
  "kernelspec": {
   "display_name": "Python 3",
   "language": "python",
   "name": "python3"
  },
  "language_info": {
   "codemirror_mode": {
    "name": "ipython",
    "version": 2
   },
   "file_extension": ".py",
   "mimetype": "text/x-python",
   "name": "python",
   "nbconvert_exporter": "python",
   "pygments_lexer": "ipython2",
   "version": "2.7.6"
  }
 },
 "nbformat": 4,
 "nbformat_minor": 5
}
