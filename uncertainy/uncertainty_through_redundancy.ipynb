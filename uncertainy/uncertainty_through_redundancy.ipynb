{
 "cells": [
  {
   "cell_type": "code",
   "id": "initial_id",
   "metadata": {
    "collapsed": true,
    "ExecuteTime": {
     "end_time": "2024-10-02T20:50:16.461072Z",
     "start_time": "2024-10-02T20:48:38.972871Z"
    }
   },
   "source": [
    "from lightning import Trainer\n",
    "import torch\n",
    "from torch import nn\n",
    "import lightning as L\n",
    "from torch.utils.data import DataLoader\n",
    "from torchvision.datasets import MNIST\n",
    "from torchvision import transforms\n",
    "import torch.nn.functional as F\n",
    "import matplotlib.pyplot as plt\n",
    "\n",
    "\n",
    "class Classifier(L.LightningModule):\n",
    "    def __init__(self, in_channels, latent_dims: list, latent_strides: list, latent_kernel_sizes: list,\n",
    "                 num_classes: int):\n",
    "        super(Classifier, self).__init__()\n",
    "        self.latent_dims = latent_dims\n",
    "\n",
    "        # Encoder layers. Each layer will be a reparameterization layer\n",
    "        layers = []\n",
    "        for dim, stride, kernel_size in zip(latent_dims, latent_strides, latent_kernel_sizes):\n",
    "            layers.append(nn.Conv2d(in_channels, dim, kernel_size, stride))\n",
    "            in_channels = dim\n",
    "\n",
    "        self.layers = nn.ModuleList(layers)\n",
    "        self.fc = nn.Linear(latent_dims[-1], num_classes)\n",
    "\n",
    "    def forward(self, x):\n",
    "        for layer in self.layers:\n",
    "            x = layer(x)\n",
    "            x = nn.functional.relu(x)\n",
    "\n",
    "        # average pooling\n",
    "        x = nn.functional.avg_pool2d(x, x.size()[2:]).view(x.size(0), -1)\n",
    "        x = self.fc(x)\n",
    "        return x\n",
    "\n",
    "    def training_step(self, batch, batch_idx):\n",
    "        x, y = batch\n",
    "        y_hat = self(x)\n",
    "        loss = nn.functional.cross_entropy(y_hat, y)\n",
    "        return loss\n",
    "\n",
    "    def validation_step(self, batch, batch_idx):\n",
    "        x, y = batch\n",
    "        y_hat = self(x)\n",
    "        loss = nn.functional.cross_entropy(y_hat, y)\n",
    "        return loss\n",
    "\n",
    "    def test_step(self, batch, batch_idx):\n",
    "        x, y = batch\n",
    "        y_hat = self(x)\n",
    "        loss = nn.functional.cross_entropy(y_hat, y)\n",
    "        acc = (y_hat.argmax(dim=1) == y).float().mean()\n",
    "        self.log('test_acc', acc)\n",
    "        return loss\n",
    "\n",
    "    def configure_optimizers(self):\n",
    "        return torch.optim.Adam(self.parameters(), lr=1e-3)\n",
    "\n",
    "\n",
    "# def subsample(x: torch.Tensor):\n",
    "#     assert x.dim() == 3  # (C, H, W)\n",
    "# \n",
    "#     # sample 1/4 of the pixels while preserving order\n",
    "#     c, h, w = x.size()\n",
    "#     x = x.view(c, h * w)\n",
    "#     \n",
    "#     num_pixels = h * w\n",
    "#     num_sampled_pixels = num_pixels // 4\n",
    "#     indices = torch.randperm(num_pixels)[:num_sampled_pixels]\n",
    "#     # sort the indices to preserve the order\n",
    "#     indices = indices.sort().values\n",
    "#     x = x[:, indices]\n",
    "#     x = x.view(c, h // 2, w // 2)\n",
    "#     return x\n",
    "\n",
    "def subsample(x: torch.Tensor, downscale_factor=2, noise_factor=0.05):\n",
    "    assert x.dim() == 3  # (C, H, W)\n",
    "\n",
    "    # Downsample using average pooling\n",
    "    x = F.avg_pool2d(x, kernel_size=downscale_factor)\n",
    "\n",
    "    # Introduce small random noise\n",
    "    noise = torch.randn_like(x) * noise_factor\n",
    "    x = x + noise\n",
    "\n",
    "    # Clip values to stay within the valid range (e.g., for MNIST this is [0, 1])\n",
    "    x = torch.clamp(x, 0.0, 1.0)\n",
    "\n",
    "    return x\n",
    "\n",
    "\n",
    "def subsample_with_random_stride(x: torch.Tensor, downscale_factor=2, max_offset=1):\n",
    "    assert x.dim() == 3  # (C, H, W)\n",
    "\n",
    "    # Randomly shift the starting point of the pooling window\n",
    "    offset_h = torch.randint(0, max_offset + 1, (1,)).item()\n",
    "    offset_w = torch.randint(0, max_offset + 1, (1,)).item()\n",
    "\n",
    "    # Apply padding to ensure pooling still works after shifting\n",
    "    x = F.pad(x, (offset_w, 0, offset_h, 0), mode='reflect')\n",
    "\n",
    "    # Downsample using average pooling\n",
    "    x = F.avg_pool2d(x, kernel_size=downscale_factor, stride=downscale_factor)\n",
    "\n",
    "    return x\n",
    "\n",
    "\n",
    "def subsample_with_patch_dropout(x: torch.Tensor, patch_size=2, dropout_prob=0.2):\n",
    "    assert x.dim() == 3  # (C, H, W)\n",
    "\n",
    "    # Divide the image into patches and randomly drop some\n",
    "    c, h, w = x.size()\n",
    "    patches_per_dim = h // patch_size\n",
    "    mask = torch.rand(patches_per_dim, patches_per_dim) > dropout_prob\n",
    "\n",
    "    # Reshape mask to match image resolution\n",
    "    mask = mask.repeat_interleave(patch_size, dim=0).repeat_interleave(patch_size, dim=1)\n",
    "    mask = mask.unsqueeze(0).expand(c, -1, -1)  # expand to channel dimension\n",
    "\n",
    "    # Apply the mask (dropout)\n",
    "    x = x * mask\n",
    "\n",
    "    # Downsample after patch dropout\n",
    "    x = F.avg_pool2d(x, kernel_size=patch_size)\n",
    "\n",
    "    return x\n",
    "\n",
    "\n",
    "import torchvision.transforms.functional as TF\n",
    "\n",
    "\n",
    "def subsample_with_random_transform(x: torch.Tensor, downscale_factor=2):\n",
    "    assert x.dim() == 3  # (C, H, W)\n",
    "\n",
    "    # Random affine transformations (rotation, translation, scaling)\n",
    "    angle = torch.randn(1).item() * 10  # Random rotation (-10 to 10 degrees)\n",
    "    translate = [torch.randint(-2, 3, (1,)).item(), torch.randint(-2, 3, (1,)).item()]\n",
    "    scale = 1.0 + torch.randn(1).item() * 0.1  # Scale within [0.9, 1.1]\n",
    "\n",
    "    # Apply transformations (converted to PIL Image for easy manipulation)\n",
    "    x_pil = TF.to_pil_image(x.squeeze(0))  # Remove channel dim for MNIST (assumed grayscale)\n",
    "    x_pil = TF.affine(x_pil, angle=angle, translate=translate, scale=scale, shear=0)\n",
    "\n",
    "    # Convert back to tensor and add channel dim again\n",
    "    x = TF.to_tensor(x_pil).unsqueeze(0)\n",
    "\n",
    "    # Downsample using average pooling\n",
    "    x = F.avg_pool2d(x, kernel_size=downscale_factor)\n",
    "\n",
    "    return x\n",
    "\n",
    "\n",
    "def subsample_with_pixel_swapping(x: torch.Tensor, swap_prob=0.1, downscale_factor=2):\n",
    "    assert x.dim() == 3  # (C, H, W)\n",
    "\n",
    "    # Generate a mask for swapping pixels\n",
    "    c, h, w = x.size()\n",
    "    swap_mask = torch.rand(h, w) < swap_prob\n",
    "\n",
    "    # Shift the image by one pixel in a random direction and swap pixels according to the mask\n",
    "    shift_direction = torch.randint(0, 4, (1,)).item()  # Randomly pick direction: 0=up, 1=down, 2=left, 3=right\n",
    "    if shift_direction == 0:\n",
    "        x_shifted = F.pad(x[:, 1:, :], (0, 0, 0, 1), mode='reflect')\n",
    "    elif shift_direction == 1:\n",
    "        x_shifted = F.pad(x[:, :-1, :], (0, 0, 1, 0), mode='reflect')\n",
    "    elif shift_direction == 2:\n",
    "        x_shifted = F.pad(x[:, :, 1:], (0, 1, 0, 0), mode='reflect')\n",
    "    else:\n",
    "        x_shifted = F.pad(x[:, :, :-1], (1, 0, 0, 0), mode='reflect')\n",
    "\n",
    "    x[swap_mask] = x_shifted[swap_mask]\n",
    "\n",
    "    # Downsample after swapping\n",
    "    x = F.avg_pool2d(x, kernel_size=downscale_factor)\n",
    "\n",
    "    return x\n",
    "\n",
    "\n",
    "def rnd_subsample_method(x: torch.Tensor):\n",
    "    methods = [subsample, subsample_with_random_stride, subsample_with_patch_dropout]\n",
    "    return methods[torch.randint(0, len(methods), (1,)).item()](x)\n",
    "\n",
    "\n",
    "# Prepare the data\n",
    "transform = transforms.Compose([transforms.ToTensor(), rnd_subsample_method])\n",
    "mnist_train = MNIST(\"../data\", train=True, download=True, transform=transform)\n",
    "mnist_val = MNIST(\"../data\", train=False, download=True, transform=transform)\n",
    "\n",
    "train_loader = DataLoader(mnist_train, batch_size=32)\n",
    "val_loader = DataLoader(mnist_val, batch_size=32)\n",
    "\n",
    "c = Classifier(\n",
    "    in_channels=1,\n",
    "    latent_dims=[32, 64],\n",
    "    latent_strides=[2, 2],\n",
    "    latent_kernel_sizes=[3, 3],\n",
    "    num_classes=10,\n",
    ")\n",
    "\n",
    "trainer = Trainer(max_epochs=5, fast_dev_run=False)\n",
    "trainer.fit(c, train_loader, val_loader)\n",
    "\n",
    "# Evaluate the model\n",
    "results = trainer.test(c, val_loader)\n",
    "\n",
    "# Print accuracy\n",
    "print(f\"Test Accuracy: {results[0]['test_acc']:.4f}\")"
   ],
   "outputs": [
    {
     "name": "stderr",
     "output_type": "stream",
     "text": [
      "GPU available: True (cuda), used: True\n",
      "TPU available: False, using: 0 TPU cores\n",
      "IPU available: False, using: 0 IPUs\n",
      "HPU available: False, using: 0 HPUs\n",
      "LOCAL_RANK: 0 - CUDA_VISIBLE_DEVICES: [0]\n",
      "\n",
      "  | Name   | Type       | Params\n",
      "--------------------------------------\n",
      "0 | layers | ModuleList | 18.8 K\n",
      "1 | fc     | Linear     | 650   \n",
      "--------------------------------------\n",
      "19.5 K    Trainable params\n",
      "0         Non-trainable params\n",
      "19.5 K    Total params\n",
      "0.078     Total estimated model params size (MB)\n"
     ]
    },
    {
     "data": {
      "text/plain": [
       "Sanity Checking: |          | 0/? [00:00<?, ?it/s]"
      ],
      "application/vnd.jupyter.widget-view+json": {
       "version_major": 2,
       "version_minor": 0,
       "model_id": "b3acb6df59814c508d99c521f64aaefa"
      }
     },
     "metadata": {},
     "output_type": "display_data"
    },
    {
     "data": {
      "text/plain": [
       "Training: |          | 0/? [00:00<?, ?it/s]"
      ],
      "application/vnd.jupyter.widget-view+json": {
       "version_major": 2,
       "version_minor": 0,
       "model_id": "2d3b0a9e42aa42ff99f950767fd6f787"
      }
     },
     "metadata": {},
     "output_type": "display_data"
    },
    {
     "data": {
      "text/plain": [
       "Validation: |          | 0/? [00:00<?, ?it/s]"
      ],
      "application/vnd.jupyter.widget-view+json": {
       "version_major": 2,
       "version_minor": 0,
       "model_id": "cdd156b2bd3947509bf22e7f2abdeae1"
      }
     },
     "metadata": {},
     "output_type": "display_data"
    },
    {
     "data": {
      "text/plain": [
       "Validation: |          | 0/? [00:00<?, ?it/s]"
      ],
      "application/vnd.jupyter.widget-view+json": {
       "version_major": 2,
       "version_minor": 0,
       "model_id": "13b804636b2d4ea2b56cb9f3ea54557e"
      }
     },
     "metadata": {},
     "output_type": "display_data"
    },
    {
     "data": {
      "text/plain": [
       "Validation: |          | 0/? [00:00<?, ?it/s]"
      ],
      "application/vnd.jupyter.widget-view+json": {
       "version_major": 2,
       "version_minor": 0,
       "model_id": "c7c3699ca4124acb9af4e60282cd5aa2"
      }
     },
     "metadata": {},
     "output_type": "display_data"
    },
    {
     "data": {
      "text/plain": [
       "Validation: |          | 0/? [00:00<?, ?it/s]"
      ],
      "application/vnd.jupyter.widget-view+json": {
       "version_major": 2,
       "version_minor": 0,
       "model_id": "9eb5703f965e49e384d7387de18bd261"
      }
     },
     "metadata": {},
     "output_type": "display_data"
    },
    {
     "data": {
      "text/plain": [
       "Validation: |          | 0/? [00:00<?, ?it/s]"
      ],
      "application/vnd.jupyter.widget-view+json": {
       "version_major": 2,
       "version_minor": 0,
       "model_id": "75b791c5151146e5bdfab07d403504dc"
      }
     },
     "metadata": {},
     "output_type": "display_data"
    },
    {
     "name": "stderr",
     "output_type": "stream",
     "text": [
      "`Trainer.fit` stopped: `max_epochs=5` reached.\n",
      "LOCAL_RANK: 0 - CUDA_VISIBLE_DEVICES: [0]\n"
     ]
    },
    {
     "data": {
      "text/plain": [
       "Testing: |          | 0/? [00:00<?, ?it/s]"
      ],
      "application/vnd.jupyter.widget-view+json": {
       "version_major": 2,
       "version_minor": 0,
       "model_id": "eccd4b9c7f554998b8cea84bd281c361"
      }
     },
     "metadata": {},
     "output_type": "display_data"
    },
    {
     "data": {
      "text/plain": [
       "┏━━━━━━━━━━━━━━━━━━━━━━━━━━━┳━━━━━━━━━━━━━━━━━━━━━━━━━━━┓\n",
       "┃\u001B[1m \u001B[0m\u001B[1m       Test metric       \u001B[0m\u001B[1m \u001B[0m┃\u001B[1m \u001B[0m\u001B[1m      DataLoader 0       \u001B[0m\u001B[1m \u001B[0m┃\n",
       "┡━━━━━━━━━━━━━━━━━━━━━━━━━━━╇━━━━━━━━━━━━━━━━━━━━━━━━━━━┩\n",
       "│\u001B[36m \u001B[0m\u001B[36m        test_acc         \u001B[0m\u001B[36m \u001B[0m│\u001B[35m \u001B[0m\u001B[35m    0.933899998664856    \u001B[0m\u001B[35m \u001B[0m│\n",
       "└───────────────────────────┴───────────────────────────┘\n"
      ],
      "text/html": [
       "<pre style=\"white-space:pre;overflow-x:auto;line-height:normal;font-family:Menlo,'DejaVu Sans Mono',consolas,'Courier New',monospace\">┏━━━━━━━━━━━━━━━━━━━━━━━━━━━┳━━━━━━━━━━━━━━━━━━━━━━━━━━━┓\n",
       "┃<span style=\"font-weight: bold\">        Test metric        </span>┃<span style=\"font-weight: bold\">       DataLoader 0        </span>┃\n",
       "┡━━━━━━━━━━━━━━━━━━━━━━━━━━━╇━━━━━━━━━━━━━━━━━━━━━━━━━━━┩\n",
       "│<span style=\"color: #008080; text-decoration-color: #008080\">         test_acc          </span>│<span style=\"color: #800080; text-decoration-color: #800080\">     0.933899998664856     </span>│\n",
       "└───────────────────────────┴───────────────────────────┘\n",
       "</pre>\n"
      ]
     },
     "metadata": {},
     "output_type": "display_data"
    },
    {
     "name": "stdout",
     "output_type": "stream",
     "text": [
      "Test Accuracy: 0.9339\n"
     ]
    }
   ],
   "execution_count": 50
  },
  {
   "metadata": {
    "ExecuteTime": {
     "end_time": "2024-10-02T20:40:20.640295Z",
     "start_time": "2024-10-02T20:40:19.193621Z"
    }
   },
   "cell_type": "code",
   "source": [
    "# dispay the different subsampling methods, same image repeated 3 times\n",
    "for i in range(3):\n",
    "    fig = plt.figure(figsize=(12, 4))\n",
    "    x, y = mnist_train[i]\n",
    "\n",
    "    for method in [subsample, subsample_with_random_stride, subsample_with_patch_dropout]:\n",
    "        for col in range(3):\n",
    "            x_subsample = method(x)\n",
    "            ax = fig.add_subplot(3, 3, 3 * i + col + 1)\n",
    "            ax.imshow(x_subsample.squeeze().numpy(), cmap='gray')\n",
    "            ax.set_title(method.__name__)\n",
    "\n",
    "\n",
    "\n"
   ],
   "id": "4d411989a300e9a4",
   "outputs": [
    {
     "data": {
      "text/plain": [
       "<Figure size 1200x400 with 9 Axes>"
      ],
      "image/png": "[encoded data removed]"
     },
     "metadata": {},
     "output_type": "display_data"
    },
    {
     "data": {
      "text/plain": [
       "<Figure size 1200x400 with 9 Axes>"
      ],
      "image/png": "[encoded data removed]"
     },
     "metadata": {},
     "output_type": "display_data"
    },
    {
     "data": {
      "text/plain": [
       "<Figure size 1200x400 with 9 Axes>"
      ],
      "image/png": "[encoded data removed]"
     },
     "metadata": {},
     "output_type": "display_data"
    }
   ],
   "execution_count": 40
  },
  {
   "metadata": {},
   "cell_type": "code",
   "outputs": [],
   "execution_count": null,
   "source": "",
   "id": "dee06cbb87f139e4"
  }
 ],
 "metadata": {
  "kernelspec": {
   "display_name": "Python 3",
   "language": "python",
   "name": "python3"
  },
  "language_info": {
   "codemirror_mode": {
    "name": "ipython",
    "version": 2
   },
   "file_extension": ".py",
   "mimetype": "text/x-python",
   "name": "python",
   "nbconvert_exporter": "python",
   "pygments_lexer": "ipython2",
   "version": "2.7.6"
  }
 },
 "nbformat": 4,
 "nbformat_minor": 5
}
